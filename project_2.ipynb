{
  "nbformat": 4,
  "nbformat_minor": 0,
  "metadata": {
    "colab": {
      "provenance": [],
      "authorship_tag": "ABX9TyPliXN76zMS6he+jmlCrHVR",
      "include_colab_link": true
    },
    "kernelspec": {
      "name": "python3",
      "display_name": "Python 3"
    },
    "language_info": {
      "name": "python"
    }
  },
  "cells": [
    {
      "cell_type": "markdown",
      "metadata": {
        "id": "view-in-github",
        "colab_type": "text"
      },
      "source": [
        "<a href=\"https://colab.research.google.com/github/kassiedancer92/Machine_Learning/blob/main/project_2.ipynb\" target=\"_parent\"><img src=\"https://colab.research.google.com/assets/colab-badge.svg\" alt=\"Open In Colab\"/></a>"
      ]
    },
    {
      "cell_type": "markdown",
      "source": [
        "#Part 1: Exploring Two Datasets"
      ],
      "metadata": {
        "id": "9rsmncAK08sC"
      }
    },
    {
      "cell_type": "code",
      "execution_count": 2,
      "metadata": {
        "colab": {
          "base_uri": "https://localhost:8080/"
        },
        "id": "HEtVjeMo3ZRu",
        "outputId": "1ba180fb-b311-4877-b2b1-98cffb11832b"
      },
      "outputs": [
        {
          "output_type": "stream",
          "name": "stdout",
          "text": [
            "Mounted at /content/drive\n"
          ]
        }
      ],
      "source": [
        "#mount google drive\n",
        "from google.colab import drive\n",
        "drive.mount('/content/drive')"
      ]
    },
    {
      "cell_type": "code",
      "source": [
        "#import libraries\n",
        "import pandas as pd\n",
        "import seaborn as sns\n",
        "import matplotlib.pyplot as plt\n",
        "import pandas as pd"
      ],
      "metadata": {
        "id": "tT3EXEEi2yhd"
      },
      "execution_count": 3,
      "outputs": []
    },
    {
      "cell_type": "markdown",
      "source": [
        "\n",
        "## Data Set 1\n",
        "\n",
        "Source of data\n",
        "\n",
        "  - https://www.kaggle.com/datasets/mdmahmudulhasansuzan/students-adaptability-level-in-online-education\n",
        "\n",
        "Brief description of data\n",
        "  - This data set takes different aspects about a student, their family and resouces and measures their online learning adapability levels\n",
        "\n",
        "What is the target?\n",
        "  - Adaptivity level\n",
        "\n",
        "\n",
        "What does one row represent? (A person? A business? An event? A product?)\n",
        "  - A person\n",
        "\n",
        "Is this a classification or regression problem?\n",
        "\n",
        "  - Classifcation\n",
        "\n",
        "How many columns in the dataset\n",
        "  - 14\n",
        "\n",
        "How many rows are in the dataset?\n",
        "  - 1205\n",
        "\n",
        "What, if any, challenges do you foresee in cleaning, exploring, or modeling this dataset?\n",
        "\n",
        "  - I really think this data set it great for a project like this. It might be hard do to the amount of ordinal data"
      ],
      "metadata": {
        "id": "Xxrdvte6OpoN"
      }
    },
    {
      "cell_type": "code",
      "source": [
        "'''\n",
        "#label fpath and read into python\n",
        "fpath = ('/content/drive/MyDrive/CodingDojo/02-MachineLearning/Week07/Data/students_adaptability_level_online_education (1).csv')\n",
        "df = pd.read_csv(fpath)\n",
        "'''"
      ],
      "metadata": {
        "colab": {
          "base_uri": "https://localhost:8080/",
          "height": 54
        },
        "id": "1b51LSwT0m-O",
        "outputId": "680a8329-6bcb-424e-d58e-17ce1661b82f"
      },
      "execution_count": 4,
      "outputs": [
        {
          "output_type": "execute_result",
          "data": {
            "text/plain": [
              "\"\\n#label fpath and read into python\\nfpath = ('/content/drive/MyDrive/CodingDojo/02-MachineLearning/Week07/Data/students_adaptability_level_online_education (1).csv')\\ndf = pd.read_csv(fpath)\\n\""
            ],
            "application/vnd.google.colaboratory.intrinsic+json": {
              "type": "string"
            }
          },
          "metadata": {},
          "execution_count": 4
        }
      ]
    },
    {
      "cell_type": "code",
      "source": [
        "'''df.head()\n",
        "df.info()'''"
      ],
      "metadata": {
        "colab": {
          "base_uri": "https://localhost:8080/",
          "height": 36
        },
        "id": "vdjj3I7QLHlZ",
        "outputId": "71334309-f883-49b8-8f50-1b0669066422"
      },
      "execution_count": 5,
      "outputs": [
        {
          "output_type": "execute_result",
          "data": {
            "text/plain": [
              "'df.head()\\ndf.info()'"
            ],
            "application/vnd.google.colaboratory.intrinsic+json": {
              "type": "string"
            }
          },
          "metadata": {},
          "execution_count": 5
        }
      ]
    },
    {
      "cell_type": "markdown",
      "source": [
        "## Dataset 2:\n",
        "\n",
        "1. Source of data\n",
        "\n",
        "  -  https://www.kaggle.com/datasets/uciml/student-alcohol-consumption?select=student-mat.csv\n",
        "\n",
        "2. Brief description of data\n",
        "  - Student alcohol consumption based on demographic data\n",
        "\n",
        "3. What is the target?\n",
        "  - Alcohol consumption\n",
        "    - Weekends (Walc)\n",
        "    - Workday (Dalc)\n",
        "4. What does one row represent? (A person? A business? An event? A product?)\n",
        "  - A person\n",
        "5. Is this a classification or regression problem?\n",
        "  - Regression as alcohol consumption is rated 1 through 5, not just \"yes\" and \"no\"\n",
        "6. How many features does the data have?\n",
        " - 33\n",
        "7. How many rows are in the dataset?\n",
        " - 335\n",
        "8. What, if any, challenges do you foresee in cleaning, exploring, or modeling this dataset?\n",
        "  - There are a lot of variables in this set and I think that might be hard to work with"
      ],
      "metadata": {
        "id": "ebD7sKCL3irL"
      }
    },
    {
      "cell_type": "code",
      "source": [
        "#label fpath and read into python\n",
        "fpath = ('/content/drive/MyDrive/CodingDojo/02-MachineLearning/Week07/Data/student-mat.csv')\n",
        "df = pd.read_csv(fpath)"
      ],
      "metadata": {
        "id": "iO1iP0pA3ohK"
      },
      "execution_count": 6,
      "outputs": []
    },
    {
      "cell_type": "code",
      "source": [
        "df.info()"
      ],
      "metadata": {
        "colab": {
          "base_uri": "https://localhost:8080/"
        },
        "id": "-jeDhSIbNBBl",
        "outputId": "7a1020ea-063e-4efc-f538-b41893e5869a"
      },
      "execution_count": 7,
      "outputs": [
        {
          "output_type": "stream",
          "name": "stdout",
          "text": [
            "<class 'pandas.core.frame.DataFrame'>\n",
            "RangeIndex: 395 entries, 0 to 394\n",
            "Data columns (total 33 columns):\n",
            " #   Column      Non-Null Count  Dtype \n",
            "---  ------      --------------  ----- \n",
            " 0   school      395 non-null    object\n",
            " 1   sex         395 non-null    object\n",
            " 2   age         395 non-null    int64 \n",
            " 3   address     395 non-null    object\n",
            " 4   famsize     395 non-null    object\n",
            " 5   Pstatus     395 non-null    object\n",
            " 6   Medu        395 non-null    int64 \n",
            " 7   Fedu        395 non-null    int64 \n",
            " 8   Mjob        395 non-null    object\n",
            " 9   Fjob        395 non-null    object\n",
            " 10  reason      395 non-null    object\n",
            " 11  guardian    395 non-null    object\n",
            " 12  traveltime  395 non-null    int64 \n",
            " 13  studytime   395 non-null    int64 \n",
            " 14  failures    395 non-null    int64 \n",
            " 15  schoolsup   395 non-null    object\n",
            " 16  famsup      395 non-null    object\n",
            " 17  paid        395 non-null    object\n",
            " 18  activities  395 non-null    object\n",
            " 19  nursery     395 non-null    object\n",
            " 20  higher      395 non-null    object\n",
            " 21  internet    395 non-null    object\n",
            " 22  romantic    395 non-null    object\n",
            " 23  famrel      395 non-null    int64 \n",
            " 24  freetime    395 non-null    int64 \n",
            " 25  goout       395 non-null    int64 \n",
            " 26  Dalc        395 non-null    int64 \n",
            " 27  Walc        395 non-null    int64 \n",
            " 28  health      395 non-null    int64 \n",
            " 29  absences    395 non-null    int64 \n",
            " 30  G1          395 non-null    int64 \n",
            " 31  G2          395 non-null    int64 \n",
            " 32  G3          395 non-null    int64 \n",
            "dtypes: int64(16), object(17)\n",
            "memory usage: 102.0+ KB\n"
          ]
        }
      ]
    },
    {
      "cell_type": "code",
      "source": [
        "df.info()"
      ],
      "metadata": {
        "colab": {
          "base_uri": "https://localhost:8080/"
        },
        "id": "gE1-VZUX0n6H",
        "outputId": "943b4d9d-5546-486e-b47e-ae40ffa3923d"
      },
      "execution_count": 8,
      "outputs": [
        {
          "output_type": "stream",
          "name": "stdout",
          "text": [
            "<class 'pandas.core.frame.DataFrame'>\n",
            "RangeIndex: 395 entries, 0 to 394\n",
            "Data columns (total 33 columns):\n",
            " #   Column      Non-Null Count  Dtype \n",
            "---  ------      --------------  ----- \n",
            " 0   school      395 non-null    object\n",
            " 1   sex         395 non-null    object\n",
            " 2   age         395 non-null    int64 \n",
            " 3   address     395 non-null    object\n",
            " 4   famsize     395 non-null    object\n",
            " 5   Pstatus     395 non-null    object\n",
            " 6   Medu        395 non-null    int64 \n",
            " 7   Fedu        395 non-null    int64 \n",
            " 8   Mjob        395 non-null    object\n",
            " 9   Fjob        395 non-null    object\n",
            " 10  reason      395 non-null    object\n",
            " 11  guardian    395 non-null    object\n",
            " 12  traveltime  395 non-null    int64 \n",
            " 13  studytime   395 non-null    int64 \n",
            " 14  failures    395 non-null    int64 \n",
            " 15  schoolsup   395 non-null    object\n",
            " 16  famsup      395 non-null    object\n",
            " 17  paid        395 non-null    object\n",
            " 18  activities  395 non-null    object\n",
            " 19  nursery     395 non-null    object\n",
            " 20  higher      395 non-null    object\n",
            " 21  internet    395 non-null    object\n",
            " 22  romantic    395 non-null    object\n",
            " 23  famrel      395 non-null    int64 \n",
            " 24  freetime    395 non-null    int64 \n",
            " 25  goout       395 non-null    int64 \n",
            " 26  Dalc        395 non-null    int64 \n",
            " 27  Walc        395 non-null    int64 \n",
            " 28  health      395 non-null    int64 \n",
            " 29  absences    395 non-null    int64 \n",
            " 30  G1          395 non-null    int64 \n",
            " 31  G2          395 non-null    int64 \n",
            " 32  G3          395 non-null    int64 \n",
            "dtypes: int64(16), object(17)\n",
            "memory usage: 102.0+ KB\n"
          ]
        }
      ]
    },
    {
      "cell_type": "markdown",
      "source": [
        "# Part-2"
      ],
      "metadata": {
        "id": "ktyKp88aOtDd"
      }
    },
    {
      "cell_type": "markdown",
      "source": [
        "1. Deleted unnecessary columns.\n",
        "  - No unnecessary columns\n",
        "2. Deleted duplicate rows.\n",
        "  - No duplicate rows\n",
        "3. Identified and addressed missing values.\n",
        "  - No missing values\n",
        "4. Identified and corrected inconsistencies in data for categorical values (i.e. Cat, cat, cats).\n",
        "  - No catagorical inconsistencies or impossible number values\n",
        "5. Produced univariate visuals for the target and all features.\n",
        "\n",
        "6. Identified outliers.\n",
        "7. Clearly commented all of your cleaning steps and described any decisions you made"
      ],
      "metadata": {
        "id": "S2kHZsSBOz4n"
      }
    },
    {
      "cell_type": "code",
      "source": [
        "# check for duplicate rows\n",
        "duplicates = df.duplicated().sum()\n",
        "print(f\"There are {duplicates} duplicate rows in this dataset.\")"
      ],
      "metadata": {
        "colab": {
          "base_uri": "https://localhost:8080/"
        },
        "id": "Rw-w6Q5Cz6RW",
        "outputId": "614c9833-f1ac-4236-b832-4ee1d22b328f"
      },
      "execution_count": 9,
      "outputs": [
        {
          "output_type": "stream",
          "name": "stdout",
          "text": [
            "There are 0 duplicate rows in this dataset.\n"
          ]
        }
      ]
    },
    {
      "cell_type": "code",
      "source": [
        "#Check for missing values\n",
        "df.isna().sum()"
      ],
      "metadata": {
        "colab": {
          "base_uri": "https://localhost:8080/"
        },
        "id": "HBSkcQfa1bkj",
        "outputId": "addc9521-9ecb-4ae6-a8d2-0023c6df2c69"
      },
      "execution_count": 10,
      "outputs": [
        {
          "output_type": "execute_result",
          "data": {
            "text/plain": [
              "school        0\n",
              "sex           0\n",
              "age           0\n",
              "address       0\n",
              "famsize       0\n",
              "Pstatus       0\n",
              "Medu          0\n",
              "Fedu          0\n",
              "Mjob          0\n",
              "Fjob          0\n",
              "reason        0\n",
              "guardian      0\n",
              "traveltime    0\n",
              "studytime     0\n",
              "failures      0\n",
              "schoolsup     0\n",
              "famsup        0\n",
              "paid          0\n",
              "activities    0\n",
              "nursery       0\n",
              "higher        0\n",
              "internet      0\n",
              "romantic      0\n",
              "famrel        0\n",
              "freetime      0\n",
              "goout         0\n",
              "Dalc          0\n",
              "Walc          0\n",
              "health        0\n",
              "absences      0\n",
              "G1            0\n",
              "G2            0\n",
              "G3            0\n",
              "dtype: int64"
            ]
          },
          "metadata": {},
          "execution_count": 10
        }
      ]
    },
    {
      "cell_type": "code",
      "source": [
        "#Check inconsistencies for catagorical\n",
        "# Find and fix any inconsistent categories of data\n",
        "string_cols = df.select_dtypes(\"object\").columns\n",
        "string_cols\n",
        "# Check the nunique for just the object cols\n",
        "string_cols.nunique()\n",
        "# Obtain the value counts for all string columns\n",
        "string_cols.value_counts()\n",
        "\n",
        "for col in string_cols:\n",
        "  print(f\"Value Counts for {col}\")\n",
        "  print(df[col].value_counts())\n",
        "  # Increasing readability by adding an empty line\n",
        "  print('\\n')"
      ],
      "metadata": {
        "colab": {
          "base_uri": "https://localhost:8080/"
        },
        "id": "YDcX3NO71lQ5",
        "outputId": "de1bd31d-6651-4b8a-b2d4-9cf3f1d8686a"
      },
      "execution_count": 11,
      "outputs": [
        {
          "output_type": "stream",
          "name": "stdout",
          "text": [
            "Value Counts for school\n",
            "GP    349\n",
            "MS     46\n",
            "Name: school, dtype: int64\n",
            "\n",
            "\n",
            "Value Counts for sex\n",
            "F    208\n",
            "M    187\n",
            "Name: sex, dtype: int64\n",
            "\n",
            "\n",
            "Value Counts for address\n",
            "U    307\n",
            "R     88\n",
            "Name: address, dtype: int64\n",
            "\n",
            "\n",
            "Value Counts for famsize\n",
            "GT3    281\n",
            "LE3    114\n",
            "Name: famsize, dtype: int64\n",
            "\n",
            "\n",
            "Value Counts for Pstatus\n",
            "T    354\n",
            "A     41\n",
            "Name: Pstatus, dtype: int64\n",
            "\n",
            "\n",
            "Value Counts for Mjob\n",
            "other       141\n",
            "services    103\n",
            "at_home      59\n",
            "teacher      58\n",
            "health       34\n",
            "Name: Mjob, dtype: int64\n",
            "\n",
            "\n",
            "Value Counts for Fjob\n",
            "other       217\n",
            "services    111\n",
            "teacher      29\n",
            "at_home      20\n",
            "health       18\n",
            "Name: Fjob, dtype: int64\n",
            "\n",
            "\n",
            "Value Counts for reason\n",
            "course        145\n",
            "home          109\n",
            "reputation    105\n",
            "other          36\n",
            "Name: reason, dtype: int64\n",
            "\n",
            "\n",
            "Value Counts for guardian\n",
            "mother    273\n",
            "father     90\n",
            "other      32\n",
            "Name: guardian, dtype: int64\n",
            "\n",
            "\n",
            "Value Counts for schoolsup\n",
            "no     344\n",
            "yes     51\n",
            "Name: schoolsup, dtype: int64\n",
            "\n",
            "\n",
            "Value Counts for famsup\n",
            "yes    242\n",
            "no     153\n",
            "Name: famsup, dtype: int64\n",
            "\n",
            "\n",
            "Value Counts for paid\n",
            "no     214\n",
            "yes    181\n",
            "Name: paid, dtype: int64\n",
            "\n",
            "\n",
            "Value Counts for activities\n",
            "yes    201\n",
            "no     194\n",
            "Name: activities, dtype: int64\n",
            "\n",
            "\n",
            "Value Counts for nursery\n",
            "yes    314\n",
            "no      81\n",
            "Name: nursery, dtype: int64\n",
            "\n",
            "\n",
            "Value Counts for higher\n",
            "yes    375\n",
            "no      20\n",
            "Name: higher, dtype: int64\n",
            "\n",
            "\n",
            "Value Counts for internet\n",
            "yes    329\n",
            "no      66\n",
            "Name: internet, dtype: int64\n",
            "\n",
            "\n",
            "Value Counts for romantic\n",
            "no     263\n",
            "yes    132\n",
            "Name: romantic, dtype: int64\n",
            "\n",
            "\n"
          ]
        }
      ]
    },
    {
      "cell_type": "code",
      "source": [
        "#Check impossible values of number\n",
        "# 1d Find and fix any inconsistent categories of data\n",
        "string_cols = df.select_dtypes(\"number\").columns\n",
        "string_cols\n",
        "# Check the nunique for just the object cols\n",
        "string_cols.nunique()\n",
        "# Obtain the value counts for all string columns\n",
        "string_cols.value_counts()\n",
        "\n",
        "for col in string_cols:\n",
        "  print(f\"Value Counts for {col}\")\n",
        "  print(df[col].value_counts())\n",
        "  # Increasing readability by adding an empty line\n",
        "  print('\\n')"
      ],
      "metadata": {
        "colab": {
          "base_uri": "https://localhost:8080/"
        },
        "id": "tYi4_28w1vv0",
        "outputId": "f46dd74e-563b-4580-d519-98ba101addd0"
      },
      "execution_count": 12,
      "outputs": [
        {
          "output_type": "stream",
          "name": "stdout",
          "text": [
            "Value Counts for age\n",
            "16    104\n",
            "17     98\n",
            "18     82\n",
            "15     82\n",
            "19     24\n",
            "20      3\n",
            "22      1\n",
            "21      1\n",
            "Name: age, dtype: int64\n",
            "\n",
            "\n",
            "Value Counts for Medu\n",
            "4    131\n",
            "2    103\n",
            "3     99\n",
            "1     59\n",
            "0      3\n",
            "Name: Medu, dtype: int64\n",
            "\n",
            "\n",
            "Value Counts for Fedu\n",
            "2    115\n",
            "3    100\n",
            "4     96\n",
            "1     82\n",
            "0      2\n",
            "Name: Fedu, dtype: int64\n",
            "\n",
            "\n",
            "Value Counts for traveltime\n",
            "1    257\n",
            "2    107\n",
            "3     23\n",
            "4      8\n",
            "Name: traveltime, dtype: int64\n",
            "\n",
            "\n",
            "Value Counts for studytime\n",
            "2    198\n",
            "1    105\n",
            "3     65\n",
            "4     27\n",
            "Name: studytime, dtype: int64\n",
            "\n",
            "\n",
            "Value Counts for failures\n",
            "0    312\n",
            "1     50\n",
            "2     17\n",
            "3     16\n",
            "Name: failures, dtype: int64\n",
            "\n",
            "\n",
            "Value Counts for famrel\n",
            "4    195\n",
            "5    106\n",
            "3     68\n",
            "2     18\n",
            "1      8\n",
            "Name: famrel, dtype: int64\n",
            "\n",
            "\n",
            "Value Counts for freetime\n",
            "3    157\n",
            "4    115\n",
            "2     64\n",
            "5     40\n",
            "1     19\n",
            "Name: freetime, dtype: int64\n",
            "\n",
            "\n",
            "Value Counts for goout\n",
            "3    130\n",
            "2    103\n",
            "4     86\n",
            "5     53\n",
            "1     23\n",
            "Name: goout, dtype: int64\n",
            "\n",
            "\n",
            "Value Counts for Dalc\n",
            "1    276\n",
            "2     75\n",
            "3     26\n",
            "5      9\n",
            "4      9\n",
            "Name: Dalc, dtype: int64\n",
            "\n",
            "\n",
            "Value Counts for Walc\n",
            "1    151\n",
            "2     85\n",
            "3     80\n",
            "4     51\n",
            "5     28\n",
            "Name: Walc, dtype: int64\n",
            "\n",
            "\n",
            "Value Counts for health\n",
            "5    146\n",
            "3     91\n",
            "4     66\n",
            "1     47\n",
            "2     45\n",
            "Name: health, dtype: int64\n",
            "\n",
            "\n",
            "Value Counts for absences\n",
            "0     115\n",
            "2      65\n",
            "4      53\n",
            "6      31\n",
            "8      22\n",
            "10     17\n",
            "14     12\n",
            "12     12\n",
            "3       8\n",
            "16      7\n",
            "7       7\n",
            "5       5\n",
            "18      5\n",
            "20      4\n",
            "11      3\n",
            "9       3\n",
            "13      3\n",
            "15      3\n",
            "22      3\n",
            "1       3\n",
            "38      1\n",
            "30      1\n",
            "40      1\n",
            "23      1\n",
            "19      1\n",
            "28      1\n",
            "75      1\n",
            "21      1\n",
            "24      1\n",
            "56      1\n",
            "26      1\n",
            "54      1\n",
            "25      1\n",
            "17      1\n",
            "Name: absences, dtype: int64\n",
            "\n",
            "\n",
            "Value Counts for G1\n",
            "10    51\n",
            "8     41\n",
            "11    39\n",
            "7     37\n",
            "12    35\n",
            "13    33\n",
            "9     31\n",
            "14    30\n",
            "15    24\n",
            "6     24\n",
            "16    22\n",
            "18     8\n",
            "17     8\n",
            "5      7\n",
            "19     3\n",
            "4      1\n",
            "3      1\n",
            "Name: G1, dtype: int64\n",
            "\n",
            "\n",
            "Value Counts for G2\n",
            "9     50\n",
            "10    46\n",
            "12    41\n",
            "13    37\n",
            "11    35\n",
            "15    34\n",
            "8     32\n",
            "14    23\n",
            "7     21\n",
            "5     15\n",
            "6     14\n",
            "16    13\n",
            "0     13\n",
            "18    12\n",
            "17     5\n",
            "19     3\n",
            "4      1\n",
            "Name: G2, dtype: int64\n",
            "\n",
            "\n",
            "Value Counts for G3\n",
            "10    56\n",
            "11    47\n",
            "0     38\n",
            "15    33\n",
            "8     32\n",
            "13    31\n",
            "12    31\n",
            "9     28\n",
            "14    27\n",
            "16    16\n",
            "6     15\n",
            "18    12\n",
            "7      9\n",
            "5      7\n",
            "17     6\n",
            "19     5\n",
            "20     1\n",
            "4      1\n",
            "Name: G3, dtype: int64\n",
            "\n",
            "\n"
          ]
        }
      ]
    },
    {
      "cell_type": "markdown",
      "source": [
        "## Univariate visuals for the target and all features."
      ],
      "metadata": {
        "id": "54PsJh1i2Mcb"
      }
    },
    {
      "cell_type": "code",
      "source": [
        "\"\"\"UNIVARIATE PLOTTING FUNCTIONS FOR EDA\"\"\"\n",
        "# Add the print statements to the function\n",
        "def explore_categorical(df, x, fillna = True, placeholder = 'MISSING',\n",
        "                        figsize = (6,4), order = None):\n",
        "  \"\"\"Creates a seaborn countplot with the option to temporarily fill missing values\n",
        "  Prints statements about null values, cardinality, and checks for\n",
        "  constant/quasi-constant features.\n",
        "  Source:{PASTE IN FINAL LESSON LINK}\n",
        "  \"\"\"\n",
        "  # Make a copy of the dataframe and fillna\n",
        "  temp_df = df.copy()\n",
        "  # Before filling nulls, save null value counts and percent for printing\n",
        "  null_count = temp_df[x].isna().sum()\n",
        "  null_perc = null_count/len(temp_df)* 100\n",
        "  # fillna with placeholder\n",
        "  if fillna == True:\n",
        "    temp_df[x] = temp_df[x].fillna(placeholder)\n",
        "  # Create figure with desired figsize\n",
        "  fig, ax = plt.subplots(figsize=figsize)\n",
        "  # Plotting a count plot\n",
        "  sns.countplot(data=temp_df, x=x, ax=ax, order=order)\n",
        "  # Rotate Tick Labels for long names\n",
        "  ax.set_xticklabels(ax.get_xticklabels(), rotation=45, ha='right')\n",
        "  # Add a title with the feature name included\n",
        "  ax.set_title(f\"Column: {x}\", fontweight='bold')\n",
        "\n",
        "  # Fix layout and show plot (before print statements)\n",
        "  fig.tight_layout()\n",
        "  plt.show()\n",
        "\n",
        "  # Print null value info\n",
        "  print(f\"- NaN's Found: {null_count} ({round(null_perc,2)}%)\")\n",
        "  # Print cardinality info\n",
        "  nunique = temp_df[x].nunique()\n",
        "  print(f\"- Unique Values: {nunique}\")\n",
        "  # First find value counts of feature\n",
        "  val_counts = temp_df[x].value_counts(dropna=False)\n",
        "  # Define the most common value\n",
        "  most_common_val = val_counts.index[0]\n",
        "  # Define the frequency of the most common value\n",
        "  freq = val_counts.values[0]\n",
        "  # Calculate the percentage of the most common value\n",
        "  perc_most_common = freq / len(temp_df) * 100\n",
        "  # Print the results\n",
        "  print(f\"- Most common value: '{most_common_val}' occurs {freq} times ({round(perc_most_common,2)}%)\")\n",
        "  # print message if quasi-constant or constant (most common val more than 98% of data)\n",
        "  if perc_most_common > 98:\n",
        "    print(f\"\\n- [!] Warning: '{x}' is a constant or quasi-constant feature and should be dropped.\")\n",
        "  else:\n",
        "    print(\"- Not constant or quasi-constant.\")\n",
        "  return fig, ax\n",
        "\n",
        "\n",
        "# TO DO: add the new print statements from explore_categorical\n",
        "def explore_numeric(df, x, figsize=(6,5) ):\n",
        "  \"\"\"Creates a seaborn histplot and boxplot with a share x-axis,\n",
        "  Prints statements about null values, cardinality, and checks for\n",
        "  constant/quasi-constant features.\n",
        "  Source:{PASTE IN FINAL LESSON LINK}\n",
        "  \"\"\"\n",
        "\n",
        "  ## Save null value counts and percent for printing\n",
        "  null_count = df[x].isna().sum()\n",
        "  null_perc = null_count/len(df)* 100\n",
        "\n",
        "\n",
        "  ## Making our figure with gridspec for subplots\n",
        "  gridspec = {'height_ratios':[0.7,0.3]}\n",
        "  fig, axes = plt.subplots(nrows=2, figsize=figsize,\n",
        "                           sharex=True, gridspec_kw=gridspec)\n",
        "  # Histogram on Top\n",
        "  sns.histplot(data=df, x=x, ax=axes[0])\n",
        "\n",
        "  # Boxplot on Bottom\n",
        "  sns.boxplot(data=df, x=x, ax=axes[1])\n",
        "\n",
        "  ## Adding a title\n",
        "  axes[0].set_title(f\"Column: {x}\", fontweight='bold')\n",
        "\n",
        "  ## Adjusting subplots to best fill Figure\n",
        "  fig.tight_layout()\n",
        "\n",
        "  # Ensure plot is shown before message\n",
        "  plt.show()\n",
        "\n",
        "\n",
        "  # Print null value info\n",
        "  print(f\"- NaN's Found: {null_count} ({round(null_perc,2)}%)\")\n",
        "  # Print cardinality info\n",
        "  nunique = df[x].nunique()\n",
        "  print(f\"- Unique Values: {nunique}\")\n",
        "\n",
        "\n",
        "  # Get the most most common value, its count as # and as %\n",
        "  most_common_val_count = df[x].value_counts(dropna=False).head(1)\n",
        "  most_common_val = most_common_val_count.index[0]\n",
        "  freq = most_common_val_count.values[0]\n",
        "  perc_most_common = freq / len(df) * 100\n",
        "\n",
        "  print(f\"- Most common value: '{most_common_val}' occurs {freq} times ({round(perc_most_common,2)}%)\")\n",
        "\n",
        "  # print message if quasi-constant or constant (most common val more than 98% of data)\n",
        "  if perc_most_common > 98:\n",
        "    print(f\"\\n- [!] Warning: '{x}' is a constant or quasi-constant feature and should be dropped.\")\n",
        "  else:\n",
        "    print(\"- Not constant or quasi-constant.\")\n",
        "  return fig, axes"
      ],
      "metadata": {
        "id": "mDPrf0NA2MJ0"
      },
      "execution_count": 13,
      "outputs": []
    },
    {
      "cell_type": "code",
      "source": [
        "# Confirming the dtype to select correct EDA function\n",
        "feature = \"school\"\n",
        "df[feature].dtype"
      ],
      "metadata": {
        "colab": {
          "base_uri": "https://localhost:8080/"
        },
        "id": "KB1L-aWj2fqo",
        "outputId": "578630e7-556e-4f31-be8e-8ce3e7a48283"
      },
      "execution_count": 14,
      "outputs": [
        {
          "output_type": "execute_result",
          "data": {
            "text/plain": [
              "dtype('O')"
            ]
          },
          "metadata": {},
          "execution_count": 14
        }
      ]
    },
    {
      "cell_type": "code",
      "source": [
        "# run the appropriate explore function (based on feature's dtype)\n",
        "explore_categorical(df,feature);"
      ],
      "metadata": {
        "colab": {
          "base_uri": "https://localhost:8080/",
          "height": 479
        },
        "id": "h7cn_lqS2tVY",
        "outputId": "3873468f-fadf-4ff5-c826-740db4e459e0"
      },
      "execution_count": 15,
      "outputs": [
        {
          "output_type": "display_data",
          "data": {
            "text/plain": [
              "<Figure size 600x400 with 1 Axes>"
            ],
            "image/png": "[encoded data removed]"
          },
          "metadata": {}
        },
        {
          "output_type": "stream",
          "name": "stdout",
          "text": [
            "- NaN's Found: 0 (0.0%)\n",
            "- Unique Values: 2\n",
            "- Most common value: 'GP' occurs 349 times (88.35%)\n",
            "- Not constant or quasi-constant.\n"
          ]
        }
      ]
    },
    {
      "cell_type": "markdown",
      "source": [
        "### Student's school ('GP' - Gabriel Pereira or 'MS' - Mousinho da Silveira)\n",
        "\n",
        "1. What type of feature is it? (Categorical (nominal), ordinal, numeric)\n",
        "\n",
        "  -  Categorical\n",
        "\n",
        "2. How many null values? What percentage? What would you do with the null values (drop the rows? drop the column? impute? if impute, with what?)\n",
        "\n",
        "  - None\n",
        "\n",
        "3. Is the feature constant or quasi-constant?\n",
        "\n",
        "  - Not constant or quasi-constant\n",
        "\n",
        "4. What is the cardinality? Is it high?\n",
        "\n",
        "  - 2, not high\n",
        "\n",
        "5. Would we know this BEFORE the target is determined?\n",
        "  - Yes\n",
        "\n",
        "6. Is there a business case/understanding reason to exclude based on our business case?\n",
        "  - No\n"
      ],
      "metadata": {
        "id": "5iYRWFzU6G7Z"
      }
    },
    {
      "cell_type": "code",
      "source": [
        "# Confirming the dtype to select correct EDA function\n",
        "feature = \"sex\"\n",
        "df[feature].dtype"
      ],
      "metadata": {
        "colab": {
          "base_uri": "https://localhost:8080/"
        },
        "id": "IaK5Egq53ktm",
        "outputId": "5036afed-002f-4b4d-ae11-42cd8804b069"
      },
      "execution_count": 16,
      "outputs": [
        {
          "output_type": "execute_result",
          "data": {
            "text/plain": [
              "dtype('O')"
            ]
          },
          "metadata": {},
          "execution_count": 16
        }
      ]
    },
    {
      "cell_type": "code",
      "source": [
        "# run the appropriate explore function (based on feature's dtype)\n",
        "explore_categorical(df,feature);"
      ],
      "metadata": {
        "colab": {
          "base_uri": "https://localhost:8080/",
          "height": 479
        },
        "id": "wf-vOETk4kn1",
        "outputId": "7c9c8581-0b7c-495f-8edb-e7a7100513da"
      },
      "execution_count": 17,
      "outputs": [
        {
          "output_type": "display_data",
          "data": {
            "text/plain": [
              "<Figure size 600x400 with 1 Axes>"
            ],
            "image/png": "[encoded data removed]"
          },
          "metadata": {}
        },
        {
          "output_type": "stream",
          "name": "stdout",
          "text": [
            "- NaN's Found: 0 (0.0%)\n",
            "- Unique Values: 2\n",
            "- Most common value: 'F' occurs 208 times (52.66%)\n",
            "- Not constant or quasi-constant.\n"
          ]
        }
      ]
    },
    {
      "cell_type": "markdown",
      "source": [
        "### Sex\n",
        "\n",
        "1. What type of feature is it? (Categorical (nominal), ordinal, numeric)\n",
        "\n",
        "  -  Categorical\n",
        "\n",
        "2. How many null values? What percentage? What would you do with the null values (drop the rows? drop the column? impute? if impute, with what?)\n",
        "\n",
        "  - None\n",
        "\n",
        "3. Is the feature constant or quasi-constant?\n",
        "\n",
        "  - Not constant or quasi-constant\n",
        "\n",
        "4. What is the cardinality? Is it high?\n",
        "\n",
        "  - 2, not high\n",
        "\n",
        "5. Would we know this BEFORE the target is determined?\n",
        "  - Yes\n",
        "\n",
        "6. Is there a business case/understanding reason to exclude based on our business case?\n",
        "  - No\n"
      ],
      "metadata": {
        "id": "mDrpk6cuwL94"
      }
    },
    {
      "cell_type": "code",
      "source": [
        "# Confirming the dtype to select correct EDA function\n",
        "feature = \"age\"\n",
        "df[feature].dtype"
      ],
      "metadata": {
        "colab": {
          "base_uri": "https://localhost:8080/"
        },
        "id": "i0b5oZGW3mcE",
        "outputId": "246b1519-bf3f-4844-ef77-7238d895f1fb"
      },
      "execution_count": 18,
      "outputs": [
        {
          "output_type": "execute_result",
          "data": {
            "text/plain": [
              "dtype('int64')"
            ]
          },
          "metadata": {},
          "execution_count": 18
        }
      ]
    },
    {
      "cell_type": "code",
      "source": [
        "explore_numeric(df,feature);"
      ],
      "metadata": {
        "colab": {
          "base_uri": "https://localhost:8080/",
          "height": 578
        },
        "id": "KLNW4uo940s6",
        "outputId": "a5cfa9c4-6108-406f-822c-5df676222a0f"
      },
      "execution_count": 19,
      "outputs": [
        {
          "output_type": "display_data",
          "data": {
            "text/plain": [
              "<Figure size 600x500 with 2 Axes>"
            ],
            "image/png": "[encoded data removed]"
          },
          "metadata": {}
        },
        {
          "output_type": "stream",
          "name": "stdout",
          "text": [
            "- NaN's Found: 0 (0.0%)\n",
            "- Unique Values: 8\n",
            "- Most common value: '16' occurs 104 times (26.33%)\n",
            "- Not constant or quasi-constant.\n"
          ]
        }
      ]
    },
    {
      "cell_type": "markdown",
      "source": [
        "### Student's Age\n",
        "\n",
        "1. What type of feature is it? (Categorical (nominal), ordinal, numeric)\n",
        "\n",
        "  -  Numeric\n",
        "\n",
        "2. How many null values? What percentage? What would you do with the null values (drop the rows? drop the column? impute? if impute, with what?)\n",
        "\n",
        "  - None\n",
        "\n",
        "3. Is the feature constant or quasi-constant?\n",
        "\n",
        "  - Not constant or quasi-constant\n",
        "\n",
        "4. What is the cardinality? Is it high?\n",
        "\n",
        "  - 8, higher side but not high\n",
        "\n",
        "5. Would we know this BEFORE the target is determined?\n",
        "  - Yes\n",
        "\n",
        "6. Is there a business case/understanding reason to exclude based on our business case?\n",
        "  - No\n"
      ],
      "metadata": {
        "id": "U3-7CrrRwTgm"
      }
    },
    {
      "cell_type": "code",
      "source": [
        "# Confirming the dtype to select correct EDA function\n",
        "feature = \"famsize\"\n",
        "df[feature].dtype"
      ],
      "metadata": {
        "colab": {
          "base_uri": "https://localhost:8080/"
        },
        "id": "9tjQaPR-3oEc",
        "outputId": "07e00556-ace9-4757-959f-37d93c2b4e52"
      },
      "execution_count": 20,
      "outputs": [
        {
          "output_type": "execute_result",
          "data": {
            "text/plain": [
              "dtype('O')"
            ]
          },
          "metadata": {},
          "execution_count": 20
        }
      ]
    },
    {
      "cell_type": "code",
      "source": [
        "# run the appropriate explore function (based on feature's dtype)\n",
        "explore_categorical(df,feature);"
      ],
      "metadata": {
        "colab": {
          "base_uri": "https://localhost:8080/",
          "height": 479
        },
        "id": "4RdmkX034laj",
        "outputId": "9120ed4e-6fd3-4257-9fe9-a296c0f396c5"
      },
      "execution_count": 21,
      "outputs": [
        {
          "output_type": "display_data",
          "data": {
            "text/plain": [
              "<Figure size 600x400 with 1 Axes>"
            ],
            "image/png": "[encoded data removed]"
          },
          "metadata": {}
        },
        {
          "output_type": "stream",
          "name": "stdout",
          "text": [
            "- NaN's Found: 0 (0.0%)\n",
            "- Unique Values: 2\n",
            "- Most common value: 'GT3' occurs 281 times (71.14%)\n",
            "- Not constant or quasi-constant.\n"
          ]
        }
      ]
    },
    {
      "cell_type": "markdown",
      "source": [
        "### Family Size: 'LE3' - less or equal to 3 or 'GT3' - greater than 3\n",
        "\n",
        "1. What type of feature is it? (Categorical (nominal), ordinal, numeric)\n",
        "\n",
        "  -  Categorical\n",
        "\n",
        "2. How many null values? What percentage? What would you do with the null values (drop the rows? drop the column? impute? if impute, with what?)\n",
        "\n",
        "  - None\n",
        "\n",
        "3. Is the feature constant or quasi-constant?\n",
        "\n",
        "  - Not constant or quasi-constant\n",
        "\n",
        "4. What is the cardinality? Is it high?\n",
        "\n",
        "  - 2, not high\n",
        "\n",
        "5. Would we know this BEFORE the target is determined?\n",
        "  - Yes\n",
        "\n",
        "6. Is there a business case/understanding reason to exclude based on our business case?\n",
        "  - No\n"
      ],
      "metadata": {
        "id": "Cm8Rd9KNwbwD"
      }
    },
    {
      "cell_type": "code",
      "source": [
        "# Confirming the dtype to select correct EDA function\n",
        "feature = \"Pstatus\"\n",
        "df[feature].dtype"
      ],
      "metadata": {
        "colab": {
          "base_uri": "https://localhost:8080/"
        },
        "id": "B8BMV6_93pdc",
        "outputId": "a2a0fee5-4d55-4e1d-b886-4aec102dc9f4"
      },
      "execution_count": 22,
      "outputs": [
        {
          "output_type": "execute_result",
          "data": {
            "text/plain": [
              "dtype('O')"
            ]
          },
          "metadata": {},
          "execution_count": 22
        }
      ]
    },
    {
      "cell_type": "code",
      "source": [
        "# run the appropriate explore function (based on feature's dtype)\n",
        "explore_categorical(df,feature);"
      ],
      "metadata": {
        "colab": {
          "base_uri": "https://localhost:8080/",
          "height": 479
        },
        "id": "2q2gwgQ04mD4",
        "outputId": "40617fe4-dd35-4b66-9203-fc6f5237a61b"
      },
      "execution_count": 23,
      "outputs": [
        {
          "output_type": "display_data",
          "data": {
            "text/plain": [
              "<Figure size 600x400 with 1 Axes>"
            ],
            "image/png": "[encoded data removed]"
          },
          "metadata": {}
        },
        {
          "output_type": "stream",
          "name": "stdout",
          "text": [
            "- NaN's Found: 0 (0.0%)\n",
            "- Unique Values: 2\n",
            "- Most common value: 'T' occurs 354 times (89.62%)\n",
            "- Not constant or quasi-constant.\n"
          ]
        }
      ]
    },
    {
      "cell_type": "markdown",
      "source": [
        "### Parent's cohabitation status: 'T' - living together or 'A' - apart\n",
        "1. What type of feature is it? (Categorical (nominal), ordinal, numeric)\n",
        "\n",
        "  -  Categorical\n",
        "\n",
        "2. How many null values? What percentage? What would you do with the null values (drop the rows? drop the column? impute? if impute, with what?)\n",
        "\n",
        "  - None\n",
        "\n",
        "3. Is the feature constant or quasi-constant?\n",
        "\n",
        "  - Not constant or quasi-constant\n",
        "\n",
        "4. What is the cardinality? Is it high?\n",
        "\n",
        "  - 2, not high\n",
        "\n",
        "5. Would we know this BEFORE the target is determined?\n",
        "  - Yes\n",
        "\n",
        "6. Is there a business case/understanding reason to exclude based on our business case?\n",
        "  - No"
      ],
      "metadata": {
        "id": "ekZX7wb9wpCR"
      }
    },
    {
      "cell_type": "code",
      "source": [
        "# Confirming the dtype to select correct EDA function\n",
        "feature = \"Medu\"\n",
        "df[feature].dtype"
      ],
      "metadata": {
        "colab": {
          "base_uri": "https://localhost:8080/"
        },
        "id": "ITfgYE3C3sOe",
        "outputId": "200e213e-07ca-4f84-ca35-728ca6c7962a"
      },
      "execution_count": 24,
      "outputs": [
        {
          "output_type": "execute_result",
          "data": {
            "text/plain": [
              "dtype('int64')"
            ]
          },
          "metadata": {},
          "execution_count": 24
        }
      ]
    },
    {
      "cell_type": "code",
      "source": [
        "explore_numeric(df,feature);"
      ],
      "metadata": {
        "colab": {
          "base_uri": "https://localhost:8080/",
          "height": 578
        },
        "id": "0Iz6lVYA42BF",
        "outputId": "e93a3068-3ce4-4a7a-b944-81cbaf7d616b"
      },
      "execution_count": 25,
      "outputs": [
        {
          "output_type": "display_data",
          "data": {
            "text/plain": [
              "<Figure size 600x500 with 2 Axes>"
            ],
            "image/png": "[encoded data removed]"
          },
          "metadata": {}
        },
        {
          "output_type": "stream",
          "name": "stdout",
          "text": [
            "- NaN's Found: 0 (0.0%)\n",
            "- Unique Values: 5\n",
            "- Most common value: '4' occurs 131 times (33.16%)\n",
            "- Not constant or quasi-constant.\n"
          ]
        }
      ]
    },
    {
      "cell_type": "markdown",
      "source": [
        "## Mother's education:\n",
        "####0 - none,\n",
        "####1 - primary education (4th grade),\n",
        "####2 - 5th to 9th grade,\n",
        "####3 – secondary education\n",
        "####4 – higher education\n",
        "1. What type of feature is it? (Categorical (nominal), ordinal, numeric)\n",
        "\n",
        "  -  Numeric\n",
        "\n",
        "2. How many null values? What percentage? What would you do with the null values (drop the rows? drop the column? impute? if impute, with what?)\n",
        "\n",
        "  - None\n",
        "\n",
        "3. Is the feature constant or quasi-constant?\n",
        "\n",
        "  - Not constant or quasi-constant\n",
        "\n",
        "4. What is the cardinality? Is it high?\n",
        "\n",
        "  - 5, not high\n",
        "\n",
        "5. Would we know this BEFORE the target is determined?\n",
        "  - Yes\n",
        "\n",
        "6. Is there a business case/understanding reason to exclude based on our business case?\n",
        "  - No"
      ],
      "metadata": {
        "id": "rfyvoCSewyAo"
      }
    },
    {
      "cell_type": "code",
      "source": [
        "# Confirming the dtype to select correct EDA function\n",
        "feature = \"Fedu\"\n",
        "df[feature].dtype"
      ],
      "metadata": {
        "colab": {
          "base_uri": "https://localhost:8080/"
        },
        "id": "Pf6PLafL3vBk",
        "outputId": "e94a0741-b403-4981-c01a-f30c1e6196b0"
      },
      "execution_count": 26,
      "outputs": [
        {
          "output_type": "execute_result",
          "data": {
            "text/plain": [
              "dtype('int64')"
            ]
          },
          "metadata": {},
          "execution_count": 26
        }
      ]
    },
    {
      "cell_type": "code",
      "source": [
        "explore_numeric(df,feature);"
      ],
      "metadata": {
        "colab": {
          "base_uri": "https://localhost:8080/",
          "height": 578
        },
        "id": "c9RKzG3V42eW",
        "outputId": "980faf94-fd17-4720-8437-8af10df96601"
      },
      "execution_count": 27,
      "outputs": [
        {
          "output_type": "display_data",
          "data": {
            "text/plain": [
              "<Figure size 600x500 with 2 Axes>"
            ],
            "image/png": "[encoded data removed]"
          },
          "metadata": {}
        },
        {
          "output_type": "stream",
          "name": "stdout",
          "text": [
            "- NaN's Found: 0 (0.0%)\n",
            "- Unique Values: 5\n",
            "- Most common value: '2' occurs 115 times (29.11%)\n",
            "- Not constant or quasi-constant.\n"
          ]
        }
      ]
    },
    {
      "cell_type": "markdown",
      "source": [
        "## Father's education:\n",
        "####0 - none,\n",
        "####1 - primary education (4th grade),\n",
        "####2 - 5th to 9th grade,\n",
        "####3 – secondary education\n",
        "####4 – higher education\n",
        "1. What type of feature is it? (Categorical (nominal), ordinal, numeric)\n",
        "\n",
        "  -  Numeric\n",
        "\n",
        "2. How many null values? What percentage? What would you do with the null values (drop the rows? drop the column? impute? if impute, with what?)\n",
        "\n",
        "  - None\n",
        "\n",
        "3. Is the feature constant or quasi-constant?\n",
        "\n",
        "  - Not constant or quasi-constant\n",
        "\n",
        "4. What is the cardinality? Is it high?\n",
        "\n",
        "  - 5, not high\n",
        "\n",
        "5. Would we know this BEFORE the target is determined?\n",
        "  - Yes\n",
        "\n",
        "6. Is there a business case/understanding reason to exclude based on our business case?\n",
        "  - No"
      ],
      "metadata": {
        "id": "tyQzKlWMxOI_"
      }
    },
    {
      "cell_type": "code",
      "source": [
        "# Confirming the dtype to select correct EDA function\n",
        "feature = \"Mjob\"\n",
        "df[feature].dtype"
      ],
      "metadata": {
        "colab": {
          "base_uri": "https://localhost:8080/"
        },
        "id": "1vvKJcuE3wr1",
        "outputId": "0fbebe6a-c1c7-443b-c883-597b7689a94f"
      },
      "execution_count": 28,
      "outputs": [
        {
          "output_type": "execute_result",
          "data": {
            "text/plain": [
              "dtype('O')"
            ]
          },
          "metadata": {},
          "execution_count": 28
        }
      ]
    },
    {
      "cell_type": "code",
      "source": [
        "# run the appropriate explore function (based on feature's dtype)\n",
        "explore_categorical(df,feature);"
      ],
      "metadata": {
        "colab": {
          "base_uri": "https://localhost:8080/",
          "height": 479
        },
        "id": "PhpeH6aD4m7R",
        "outputId": "2bd0baa9-5e48-4f62-dd6b-4e277221d9a1"
      },
      "execution_count": 29,
      "outputs": [
        {
          "output_type": "display_data",
          "data": {
            "text/plain": [
              "<Figure size 600x400 with 1 Axes>"
            ],
            "image/png": "[encoded data removed]"
          },
          "metadata": {}
        },
        {
          "output_type": "stream",
          "name": "stdout",
          "text": [
            "- NaN's Found: 0 (0.0%)\n",
            "- Unique Values: 5\n",
            "- Most common value: 'other' occurs 141 times (35.7%)\n",
            "- Not constant or quasi-constant.\n"
          ]
        }
      ]
    },
    {
      "cell_type": "markdown",
      "source": [
        "### Mother's job\n",
        "1. What type of feature is it? (Categorical (nominal), ordinal, numeric)\n",
        "\n",
        "  -  Nominal\n",
        "\n",
        "2. How many null values? What percentage? What would you do with the null values (drop the rows? drop the column? impute? if impute, with what?)\n",
        "\n",
        "  - None\n",
        "\n",
        "3. Is the feature constant or quasi-constant?\n",
        "\n",
        "  - Not constant or quasi-constant\n",
        "\n",
        "4. What is the cardinality? Is it high?\n",
        "\n",
        "  - 5, not high\n",
        "\n",
        "5. Would we know this BEFORE the target is determined?\n",
        "  - Yes\n",
        "\n",
        "6. Is there a business case/understanding reason to exclude based on our business case?\n",
        "  - No"
      ],
      "metadata": {
        "id": "GJ5_p0QWzFAq"
      }
    },
    {
      "cell_type": "code",
      "source": [
        "# Confirming the dtype to select correct EDA function\n",
        "feature = \"Fjob\"\n",
        "df[feature].dtype"
      ],
      "metadata": {
        "colab": {
          "base_uri": "https://localhost:8080/"
        },
        "id": "Ul9kt9u63x9D",
        "outputId": "1f0f3005-9211-4c48-fd72-e1f27a44a9a6"
      },
      "execution_count": 30,
      "outputs": [
        {
          "output_type": "execute_result",
          "data": {
            "text/plain": [
              "dtype('O')"
            ]
          },
          "metadata": {},
          "execution_count": 30
        }
      ]
    },
    {
      "cell_type": "code",
      "source": [
        "# run the appropriate explore function (based on feature's dtype)\n",
        "explore_categorical(df,feature);"
      ],
      "metadata": {
        "colab": {
          "base_uri": "https://localhost:8080/",
          "height": 479
        },
        "id": "SBY_6j-C5HlL",
        "outputId": "2f39b45e-4fc8-44b2-9f53-e3a955a8f412"
      },
      "execution_count": 31,
      "outputs": [
        {
          "output_type": "display_data",
          "data": {
            "text/plain": [
              "<Figure size 600x400 with 1 Axes>"
            ],
            "image/png": "[encoded data removed]"
          },
          "metadata": {}
        },
        {
          "output_type": "stream",
          "name": "stdout",
          "text": [
            "- NaN's Found: 0 (0.0%)\n",
            "- Unique Values: 5\n",
            "- Most common value: 'other' occurs 217 times (54.94%)\n",
            "- Not constant or quasi-constant.\n"
          ]
        }
      ]
    },
    {
      "cell_type": "markdown",
      "source": [
        "### Fathers's job\n",
        "1. What type of feature is it? (Categorical (nominal), ordinal, numeric)\n",
        "\n",
        "  -  Nominal\n",
        "\n",
        "2. How many null values? What percentage? What would you do with the null values (drop the rows? drop the column? impute? if impute, with what?)\n",
        "\n",
        "  - None\n",
        "\n",
        "3. Is the feature constant or quasi-constant?\n",
        "\n",
        "  - Not constant or quasi-constant\n",
        "\n",
        "4. What is the cardinality? Is it high?\n",
        "\n",
        "  - 5, not high\n",
        "\n",
        "5. Would we know this BEFORE the target is determined?\n",
        "  - Yes\n",
        "\n",
        "6. Is there a business case/understanding reason to exclude based on our business case?\n",
        "  - No"
      ],
      "metadata": {
        "id": "DgBpgiABzPwC"
      }
    },
    {
      "cell_type": "code",
      "source": [
        "# Confirming the dtype to select correct EDA function\n",
        "feature = \"reason\"\n",
        "df[feature].dtype"
      ],
      "metadata": {
        "colab": {
          "base_uri": "https://localhost:8080/"
        },
        "id": "K1jsn4f73zOl",
        "outputId": "f38dfa48-09b4-4aa7-c47f-8f20e4840ddd"
      },
      "execution_count": 32,
      "outputs": [
        {
          "output_type": "execute_result",
          "data": {
            "text/plain": [
              "dtype('O')"
            ]
          },
          "metadata": {},
          "execution_count": 32
        }
      ]
    },
    {
      "cell_type": "code",
      "source": [
        "# run the appropriate explore function (based on feature's dtype)\n",
        "explore_categorical(df,feature);"
      ],
      "metadata": {
        "colab": {
          "base_uri": "https://localhost:8080/",
          "height": 479
        },
        "id": "rljChX-44nlH",
        "outputId": "be8cb4f1-be83-4e9e-c140-5db7292ee4e0"
      },
      "execution_count": 33,
      "outputs": [
        {
          "output_type": "display_data",
          "data": {
            "text/plain": [
              "<Figure size 600x400 with 1 Axes>"
            ],
            "image/png": "[encoded data removed]"
          },
          "metadata": {}
        },
        {
          "output_type": "stream",
          "name": "stdout",
          "text": [
            "- NaN's Found: 0 (0.0%)\n",
            "- Unique Values: 4\n",
            "- Most common value: 'course' occurs 145 times (36.71%)\n",
            "- Not constant or quasi-constant.\n"
          ]
        }
      ]
    },
    {
      "cell_type": "markdown",
      "source": [
        " ### Reason to choose this school\n",
        "\n",
        " 1. What type of feature is it? (Categorical (nominal), ordinal, numeric)\n",
        "\n",
        "  -  Nominal\n",
        "\n",
        "2. How many null values? What percentage? What would you do with the null values (drop the rows? drop the column? impute? if impute, with what?)\n",
        "\n",
        "  - None\n",
        "\n",
        "3. Is the feature constant or quasi-constant?\n",
        "\n",
        "  - Not constant or quasi-constant\n",
        "\n",
        "4. What is the cardinality? Is it high?\n",
        "\n",
        "  - 4, not high\n",
        "\n",
        "5. Would we know this BEFORE the target is determined?\n",
        "  - Yes\n",
        "\n",
        "6. Is there a business case/understanding reason to exclude based on our business case?\n",
        "  - No"
      ],
      "metadata": {
        "id": "AEfg-o7OzU1h"
      }
    },
    {
      "cell_type": "code",
      "source": [
        "# Confirming the dtype to select correct EDA function\n",
        "feature = \"guardian\"\n",
        "df[feature].dtype"
      ],
      "metadata": {
        "colab": {
          "base_uri": "https://localhost:8080/"
        },
        "id": "zs6is6wN31pu",
        "outputId": "9ad4a9a2-6d6e-4004-a3bb-ce99aac53f79"
      },
      "execution_count": 34,
      "outputs": [
        {
          "output_type": "execute_result",
          "data": {
            "text/plain": [
              "dtype('O')"
            ]
          },
          "metadata": {},
          "execution_count": 34
        }
      ]
    },
    {
      "cell_type": "code",
      "source": [
        "# run the appropriate explore function (based on feature's dtype)\n",
        "explore_categorical(df,feature);"
      ],
      "metadata": {
        "colab": {
          "base_uri": "https://localhost:8080/",
          "height": 479
        },
        "id": "42MVaj5h4oNT",
        "outputId": "0e27fd21-3dcd-4852-921d-f1910f5dd734"
      },
      "execution_count": 35,
      "outputs": [
        {
          "output_type": "display_data",
          "data": {
            "text/plain": [
              "<Figure size 600x400 with 1 Axes>"
            ],
            "image/png": "[encoded data removed]"
          },
          "metadata": {}
        },
        {
          "output_type": "stream",
          "name": "stdout",
          "text": [
            "- NaN's Found: 0 (0.0%)\n",
            "- Unique Values: 3\n",
            "- Most common value: 'mother' occurs 273 times (69.11%)\n",
            "- Not constant or quasi-constant.\n"
          ]
        }
      ]
    },
    {
      "cell_type": "markdown",
      "source": [
        "### Student's guardian: 'mother', 'father' or 'other'\n",
        "\n",
        "\n",
        " 1. What type of feature is it? (Categorical (nominal), ordinal, numeric)\n",
        "\n",
        "  -  Nominal\n",
        "\n",
        "2. How many null values? What percentage? What would you do with the null values (drop the rows? drop the column? impute? if impute, with what?)\n",
        "\n",
        "  - None\n",
        "\n",
        "3. Is the feature constant or quasi-constant?\n",
        "\n",
        "  - Not constant or quasi-constant\n",
        "\n",
        "4. What is the cardinality? Is it high?\n",
        "\n",
        "  - 3, not high\n",
        "\n",
        "5. Would we know this BEFORE the target is determined?\n",
        "  - Yes\n",
        "\n",
        "6. Is there a business case/understanding reason to exclude based on our business case?\n",
        "  - No\n",
        "\n"
      ],
      "metadata": {
        "id": "FwUsvn9ZzdJt"
      }
    },
    {
      "cell_type": "code",
      "source": [
        "# Confirming the dtype to select correct EDA function\n",
        "feature = \"traveltime\"\n",
        "df[feature].dtype"
      ],
      "metadata": {
        "colab": {
          "base_uri": "https://localhost:8080/"
        },
        "id": "x33Zbuk-33ej",
        "outputId": "14b42bdf-36a0-47bb-d386-a79a2e30aad6"
      },
      "execution_count": 36,
      "outputs": [
        {
          "output_type": "execute_result",
          "data": {
            "text/plain": [
              "dtype('int64')"
            ]
          },
          "metadata": {},
          "execution_count": 36
        }
      ]
    },
    {
      "cell_type": "code",
      "source": [
        "explore_numeric(df,feature);"
      ],
      "metadata": {
        "colab": {
          "base_uri": "https://localhost:8080/",
          "height": 578
        },
        "id": "yKzJ6_wO44ni",
        "outputId": "6eae8bf9-b199-4b0b-d885-008268be4c66"
      },
      "execution_count": 37,
      "outputs": [
        {
          "output_type": "display_data",
          "data": {
            "text/plain": [
              "<Figure size 600x500 with 2 Axes>"
            ],
            "image/png": "[encoded data removed]"
          },
          "metadata": {}
        },
        {
          "output_type": "stream",
          "name": "stdout",
          "text": [
            "- NaN's Found: 0 (0.0%)\n",
            "- Unique Values: 4\n",
            "- Most common value: '1' occurs 257 times (65.06%)\n",
            "- Not constant or quasi-constant.\n"
          ]
        }
      ]
    },
    {
      "cell_type": "markdown",
      "source": [
        "### Home to school travel time\n",
        "#### 1 - <15 min\n",
        "#### 2 - 15 to 30 min.\n",
        "#### 3 - 30 min. to 1 hour\n",
        "#### 4 - >1 hour\n",
        "\n",
        "\n",
        " 1. What type of feature is it? (Categorical (nominal), ordinal, numeric)\n",
        "\n",
        "  -  Numeric\n",
        "\n",
        "2. How many null values? What percentage? What would you do with the null values (drop the rows? drop the column? impute? if impute, with what?)\n",
        "\n",
        "  - None\n",
        "\n",
        "3. Is the feature constant or quasi-constant?\n",
        "\n",
        "  - Not constant or quasi-constant\n",
        "\n",
        "4. What is the cardinality? Is it high?\n",
        "\n",
        "  - 4, not high\n",
        "\n",
        "5. Would we know this BEFORE the target is determined?\n",
        "  - Yes\n",
        "\n",
        "6. Is there a business case/understanding reason to exclude based on our business case?\n",
        "  - No"
      ],
      "metadata": {
        "id": "IAoASFYVzoNx"
      }
    },
    {
      "cell_type": "code",
      "source": [
        "# Confirming the dtype to select correct EDA function\n",
        "feature = \"studytime\"\n",
        "df[feature].dtype"
      ],
      "metadata": {
        "colab": {
          "base_uri": "https://localhost:8080/"
        },
        "id": "hmrMyAq035I7",
        "outputId": "84025b17-d41e-4aa7-cc4f-6fadbacdc0c8"
      },
      "execution_count": 38,
      "outputs": [
        {
          "output_type": "execute_result",
          "data": {
            "text/plain": [
              "dtype('int64')"
            ]
          },
          "metadata": {},
          "execution_count": 38
        }
      ]
    },
    {
      "cell_type": "code",
      "source": [
        "explore_numeric(df,feature);"
      ],
      "metadata": {
        "colab": {
          "base_uri": "https://localhost:8080/",
          "height": 578
        },
        "id": "rfMvkyyP45Jr",
        "outputId": "83922c5f-4602-41fd-c321-59f4bcead9d3"
      },
      "execution_count": 39,
      "outputs": [
        {
          "output_type": "display_data",
          "data": {
            "text/plain": [
              "<Figure size 600x500 with 2 Axes>"
            ],
            "image/png": "[encoded data removed]"
          },
          "metadata": {}
        },
        {
          "output_type": "stream",
          "name": "stdout",
          "text": [
            "- NaN's Found: 0 (0.0%)\n",
            "- Unique Values: 4\n",
            "- Most common value: '2' occurs 198 times (50.13%)\n",
            "- Not constant or quasi-constant.\n"
          ]
        }
      ]
    },
    {
      "cell_type": "markdown",
      "source": [
        "### Weekly study time\n",
        "#### 1 - <2 hours\n",
        "####  2 - 2 to 5 hours\n",
        "####  3 - 5 to 10 hours\n",
        "####  4 - >10 hours\n",
        "\n",
        "\n",
        " 1. What type of feature is it? (Categorical (nominal), ordinal, numeric)\n",
        "\n",
        "  -  Numeric\n",
        "\n",
        "2. How many null values? What percentage? What would you do with the null values (drop the rows? drop the column? impute? if impute, with what?)\n",
        "\n",
        "  - None\n",
        "\n",
        "3. Is the feature constant or quasi-constant?\n",
        "\n",
        "  - Not constant or quasi-constant\n",
        "\n",
        "4. What is the cardinality? Is it high?\n",
        "\n",
        "  - 4, not high\n",
        "\n",
        "5. Would we know this BEFORE the target is determined?\n",
        "  - Yes\n",
        "\n",
        "6. Is there a business case/understanding reason to exclude based on our business case?\n",
        "  - No"
      ],
      "metadata": {
        "id": "yFHtJnctz0q0"
      }
    },
    {
      "cell_type": "code",
      "source": [
        "# Confirming the dtype to select correct EDA function\n",
        "feature = \"failures\"\n",
        "df[feature].dtype"
      ],
      "metadata": {
        "colab": {
          "base_uri": "https://localhost:8080/"
        },
        "id": "RiAFkEbI37Xh",
        "outputId": "bcb87c10-418e-48be-e01c-152ed860f0b5"
      },
      "execution_count": 40,
      "outputs": [
        {
          "output_type": "execute_result",
          "data": {
            "text/plain": [
              "dtype('int64')"
            ]
          },
          "metadata": {},
          "execution_count": 40
        }
      ]
    },
    {
      "cell_type": "code",
      "source": [
        "explore_numeric(df,feature);"
      ],
      "metadata": {
        "colab": {
          "base_uri": "https://localhost:8080/",
          "height": 578
        },
        "id": "Htr24iao45s8",
        "outputId": "92909447-b996-4331-a355-6d0058807582"
      },
      "execution_count": 41,
      "outputs": [
        {
          "output_type": "display_data",
          "data": {
            "text/plain": [
              "<Figure size 600x500 with 2 Axes>"
            ],
            "image/png": "[encoded data removed]"
          },
          "metadata": {}
        },
        {
          "output_type": "stream",
          "name": "stdout",
          "text": [
            "- NaN's Found: 0 (0.0%)\n",
            "- Unique Values: 4\n",
            "- Most common value: '0' occurs 312 times (78.99%)\n",
            "- Not constant or quasi-constant.\n"
          ]
        }
      ]
    },
    {
      "cell_type": "markdown",
      "source": [
        " #### Number of past class failures\n",
        "1. What type of feature is it? (Categorical (nominal), ordinal, numeric)\n",
        "\n",
        "  -  Numeric\n",
        "\n",
        "2. How many null values? What percentage? What would you do with the null values (drop the rows? drop the column? impute? if impute, with what?)\n",
        "\n",
        "  - None\n",
        "\n",
        "3. Is the feature constant or quasi-constant?\n",
        "\n",
        "  - Not constant or quasi-constant\n",
        "\n",
        "4. What is the cardinality? Is it high?\n",
        "\n",
        "  - 4, not high\n",
        "\n",
        "5. Would we know this BEFORE the target is determined?\n",
        "  - Yes\n",
        "\n",
        "6. Is there a business case/understanding reason to exclude based on our business case?\n",
        "  - No"
      ],
      "metadata": {
        "id": "eN80Pcu10FM8"
      }
    },
    {
      "cell_type": "code",
      "source": [
        "# Confirming the dtype to select correct EDA function\n",
        "feature = \"schoolsup\"\n",
        "df[feature].dtype"
      ],
      "metadata": {
        "colab": {
          "base_uri": "https://localhost:8080/"
        },
        "id": "ZIh4VEsk38xb",
        "outputId": "b5f3ede5-837c-426f-af27-3d08ff5f1ccf"
      },
      "execution_count": 42,
      "outputs": [
        {
          "output_type": "execute_result",
          "data": {
            "text/plain": [
              "dtype('O')"
            ]
          },
          "metadata": {},
          "execution_count": 42
        }
      ]
    },
    {
      "cell_type": "code",
      "source": [
        "# run the appropriate explore function (based on feature's dtype)\n",
        "explore_categorical(df,feature);"
      ],
      "metadata": {
        "colab": {
          "base_uri": "https://localhost:8080/",
          "height": 479
        },
        "id": "0v2VBKD64pAi",
        "outputId": "2be1d833-f4fc-47f9-a072-fdf2264a7944"
      },
      "execution_count": 43,
      "outputs": [
        {
          "output_type": "display_data",
          "data": {
            "text/plain": [
              "<Figure size 600x400 with 1 Axes>"
            ],
            "image/png": "[encoded data removed]"
          },
          "metadata": {}
        },
        {
          "output_type": "stream",
          "name": "stdout",
          "text": [
            "- NaN's Found: 0 (0.0%)\n",
            "- Unique Values: 2\n",
            "- Most common value: 'no' occurs 344 times (87.09%)\n",
            "- Not constant or quasi-constant.\n"
          ]
        }
      ]
    },
    {
      "cell_type": "code",
      "source": [
        "# Confirming the dtype to select correct EDA function\n",
        "feature = \"famsup\"\n",
        "df[feature].dtype"
      ],
      "metadata": {
        "colab": {
          "base_uri": "https://localhost:8080/"
        },
        "id": "_3pv3mgU3-us",
        "outputId": "0a12ba96-9f9d-4281-f0aa-a78a20019463"
      },
      "execution_count": 44,
      "outputs": [
        {
          "output_type": "execute_result",
          "data": {
            "text/plain": [
              "dtype('O')"
            ]
          },
          "metadata": {},
          "execution_count": 44
        }
      ]
    },
    {
      "cell_type": "markdown",
      "source": [
        " ### Extra educational support\n",
        "\n",
        " 1. What type of feature is it? (Categorical (nominal), ordinal, numeric)\n",
        "\n",
        "  -  Nominal\n",
        "\n",
        "2. How many null values? What percentage? What would you do with the null values (drop the rows? drop the column? impute? if impute, with what?)\n",
        "\n",
        "  - None\n",
        "\n",
        "3. Is the feature constant or quasi-constant?\n",
        "\n",
        "  - Not constant or quasi-constant\n",
        "\n",
        "4. What is the cardinality? Is it high?\n",
        "\n",
        "  - 2, not high\n",
        "\n",
        "5. Would we know this BEFORE the target is determined?\n",
        "  - Yes\n",
        "\n",
        "6. Is there a business case/understanding reason to exclude based on our business case?\n",
        "  - No"
      ],
      "metadata": {
        "id": "Wj0KEoXp0S-1"
      }
    },
    {
      "cell_type": "code",
      "source": [
        "# run the appropriate explore function (based on feature's dtype)\n",
        "explore_categorical(df,feature);"
      ],
      "metadata": {
        "colab": {
          "base_uri": "https://localhost:8080/",
          "height": 479
        },
        "id": "A_JOOryT4pt2",
        "outputId": "4732a384-2f76-4087-e9a9-8e66b2fadd7f"
      },
      "execution_count": 45,
      "outputs": [
        {
          "output_type": "display_data",
          "data": {
            "text/plain": [
              "<Figure size 600x400 with 1 Axes>"
            ],
            "image/png": "[encoded data removed]"
          },
          "metadata": {}
        },
        {
          "output_type": "stream",
          "name": "stdout",
          "text": [
            "- NaN's Found: 0 (0.0%)\n",
            "- Unique Values: 2\n",
            "- Most common value: 'yes' occurs 242 times (61.27%)\n",
            "- Not constant or quasi-constant.\n"
          ]
        }
      ]
    },
    {
      "cell_type": "markdown",
      "source": [
        " ### Family educational support\n",
        "\n",
        " 1. What type of feature is it? (Categorical (nominal), ordinal, numeric)\n",
        "\n",
        "  -  Nominal\n",
        "\n",
        "2. How many null values? What percentage? What would you do with the null values (drop the rows? drop the column? impute? if impute, with what?)\n",
        "\n",
        "  - None\n",
        "\n",
        "3. Is the feature constant or quasi-constant?\n",
        "\n",
        "  - Not constant or quasi-constant\n",
        "\n",
        "4. What is the cardinality? Is it high?\n",
        "\n",
        "  - 2, not high\n",
        "\n",
        "5. Would we know this BEFORE the target is determined?\n",
        "  - Yes\n",
        "\n",
        "6. Is there a business case/understanding reason to exclude based on our business case?\n",
        "  - No"
      ],
      "metadata": {
        "id": "xB3aZFvK0cbK"
      }
    },
    {
      "cell_type": "code",
      "source": [
        "# Confirming the dtype to select correct EDA function\n",
        "feature = \"paid\"\n",
        "df[feature].dtype"
      ],
      "metadata": {
        "colab": {
          "base_uri": "https://localhost:8080/"
        },
        "id": "8GH7dNSr4ADz",
        "outputId": "49708195-3331-4963-8cb0-5f70f507b677"
      },
      "execution_count": 46,
      "outputs": [
        {
          "output_type": "execute_result",
          "data": {
            "text/plain": [
              "dtype('O')"
            ]
          },
          "metadata": {},
          "execution_count": 46
        }
      ]
    },
    {
      "cell_type": "code",
      "source": [
        "# run the appropriate explore function (based on feature's dtype)\n",
        "explore_categorical(df,feature);"
      ],
      "metadata": {
        "colab": {
          "base_uri": "https://localhost:8080/",
          "height": 479
        },
        "id": "pgyOr6R-4qM4",
        "outputId": "bad5fdea-384e-45d7-b226-2682ef3625f9"
      },
      "execution_count": 47,
      "outputs": [
        {
          "output_type": "display_data",
          "data": {
            "text/plain": [
              "<Figure size 600x400 with 1 Axes>"
            ],
            "image/png": "[encoded data removed]"
          },
          "metadata": {}
        },
        {
          "output_type": "stream",
          "name": "stdout",
          "text": [
            "- NaN's Found: 0 (0.0%)\n",
            "- Unique Values: 2\n",
            "- Most common value: 'no' occurs 214 times (54.18%)\n",
            "- Not constant or quasi-constant.\n"
          ]
        }
      ]
    },
    {
      "cell_type": "markdown",
      "source": [
        " ###  Extra paid classes within the course subject (Math or Portuguese)\n",
        "\n",
        " 1. What type of feature is it? (Categorical (nominal), ordinal, numeric)\n",
        "\n",
        "  -  Nominal\n",
        "\n",
        "2. How many null values? What percentage? What would you do with the null values (drop the rows? drop the column? impute? if impute, with what?)\n",
        "\n",
        "  - None\n",
        "\n",
        "3. Is the feature constant or quasi-constant?\n",
        "\n",
        "  - Not constant or quasi-constant\n",
        "\n",
        "4. What is the cardinality? Is it high?\n",
        "\n",
        "  - 2, not high\n",
        "\n",
        "5. Would we know this BEFORE the target is determined?\n",
        "  - Yes\n",
        "\n",
        "6. Is there a business case/understanding reason to exclude based on our business case?\n",
        "  - No"
      ],
      "metadata": {
        "id": "33qXG-oy0fnC"
      }
    },
    {
      "cell_type": "code",
      "source": [
        "# Confirming the dtype to select correct EDA function\n",
        "feature = \"activities\"\n",
        "df[feature].dtype"
      ],
      "metadata": {
        "colab": {
          "base_uri": "https://localhost:8080/"
        },
        "id": "KKysjv7t4BYi",
        "outputId": "f14f81ec-9f08-409f-d659-6885d13dac2c"
      },
      "execution_count": 48,
      "outputs": [
        {
          "output_type": "execute_result",
          "data": {
            "text/plain": [
              "dtype('O')"
            ]
          },
          "metadata": {},
          "execution_count": 48
        }
      ]
    },
    {
      "cell_type": "code",
      "source": [
        "# run the appropriate explore function (based on feature's dtype)\n",
        "explore_categorical(df,feature);"
      ],
      "metadata": {
        "colab": {
          "base_uri": "https://localhost:8080/",
          "height": 479
        },
        "id": "fOt78FD04rBs",
        "outputId": "f54ac3a5-3ce8-4452-e739-59d9fa79a4eb"
      },
      "execution_count": 49,
      "outputs": [
        {
          "output_type": "display_data",
          "data": {
            "text/plain": [
              "<Figure size 600x400 with 1 Axes>"
            ],
            "image/png": "[encoded data removed]"
          },
          "metadata": {}
        },
        {
          "output_type": "stream",
          "name": "stdout",
          "text": [
            "- NaN's Found: 0 (0.0%)\n",
            "- Unique Values: 2\n",
            "- Most common value: 'yes' occurs 201 times (50.89%)\n",
            "- Not constant or quasi-constant.\n"
          ]
        }
      ]
    },
    {
      "cell_type": "markdown",
      "source": [
        "### Extra-curricular activities\n",
        "\n",
        " 1. What type of feature is it? (Categorical (nominal), ordinal, numeric)\n",
        "\n",
        "  -  Nominal\n",
        "\n",
        "2. How many null values? What percentage? What would you do with the null values (drop the rows? drop the column? impute? if impute, with what?)\n",
        "\n",
        "  - None\n",
        "\n",
        "3. Is the feature constant or quasi-constant?\n",
        "\n",
        "  - Not constant or quasi-constant\n",
        "\n",
        "4. What is the cardinality? Is it high?\n",
        "\n",
        "  - 2, not high\n",
        "\n",
        "5. Would we know this BEFORE the target is determined?\n",
        "  - Yes\n",
        "\n",
        "6. Is there a business case/understanding reason to exclude based on our business case?\n",
        "  - No"
      ],
      "metadata": {
        "id": "bj9FjxUQ0mQT"
      }
    },
    {
      "cell_type": "code",
      "source": [
        "# Confirming the dtype to select correct EDA function\n",
        "feature = \"nursery\"\n",
        "df[feature].dtype"
      ],
      "metadata": {
        "colab": {
          "base_uri": "https://localhost:8080/"
        },
        "id": "-B-ylkI44CtC",
        "outputId": "62e76ded-5629-4299-d2a6-8e8790b4e8ff"
      },
      "execution_count": 50,
      "outputs": [
        {
          "output_type": "execute_result",
          "data": {
            "text/plain": [
              "dtype('O')"
            ]
          },
          "metadata": {},
          "execution_count": 50
        }
      ]
    },
    {
      "cell_type": "code",
      "source": [
        "# run the appropriate explore function (based on feature's dtype)\n",
        "explore_categorical(df,feature);"
      ],
      "metadata": {
        "colab": {
          "base_uri": "https://localhost:8080/",
          "height": 479
        },
        "id": "KsqUtUsf4rgD",
        "outputId": "5eaf14a1-f060-4d53-a177-72d80761f951"
      },
      "execution_count": 51,
      "outputs": [
        {
          "output_type": "display_data",
          "data": {
            "text/plain": [
              "<Figure size 600x400 with 1 Axes>"
            ],
            "image/png": "[encoded data removed]"
          },
          "metadata": {}
        },
        {
          "output_type": "stream",
          "name": "stdout",
          "text": [
            "- NaN's Found: 0 (0.0%)\n",
            "- Unique Values: 2\n",
            "- Most common value: 'yes' occurs 314 times (79.49%)\n",
            "- Not constant or quasi-constant.\n"
          ]
        }
      ]
    },
    {
      "cell_type": "markdown",
      "source": [
        "### Attended Nursey School\n",
        "\n",
        "1. What type of feature is it? (Categorical (nominal), ordinal, numeric)\n",
        "\n",
        "  -  Nominal\n",
        "\n",
        "2. How many null values? What percentage? What would you do with the null values (drop the rows? drop the column? impute? if impute, with what?)\n",
        "\n",
        "  - None\n",
        "\n",
        "3. Is the feature constant or quasi-constant?\n",
        "\n",
        "  - Not constant or quasi-constant\n",
        "\n",
        "4. What is the cardinality? Is it high?\n",
        "\n",
        "  - 2, not high\n",
        "\n",
        "5. Would we know this BEFORE the target is determined?\n",
        "  - Yes\n",
        "\n",
        "6. Is there a business case/understanding reason to exclude based on our business case?\n",
        "  - No\n"
      ],
      "metadata": {
        "id": "L-6LxOuV0rjF"
      }
    },
    {
      "cell_type": "code",
      "source": [
        "# Confirming the dtype to select correct EDA function\n",
        "feature = \"higher\"\n",
        "df[feature].dtype"
      ],
      "metadata": {
        "colab": {
          "base_uri": "https://localhost:8080/"
        },
        "id": "6aHvr8Mo01Va",
        "outputId": "95f5b389-e0f0-477b-b31c-ba87b3d10ed5"
      },
      "execution_count": 52,
      "outputs": [
        {
          "output_type": "execute_result",
          "data": {
            "text/plain": [
              "dtype('O')"
            ]
          },
          "metadata": {},
          "execution_count": 52
        }
      ]
    },
    {
      "cell_type": "code",
      "source": [
        "# run the appropriate explore function (based on feature's dtype)\n",
        "explore_categorical(df,feature);"
      ],
      "metadata": {
        "colab": {
          "base_uri": "https://localhost:8080/",
          "height": 479
        },
        "id": "6CAmUsI603OJ",
        "outputId": "df98c41c-2513-465c-c59f-77acb69ca83c"
      },
      "execution_count": 53,
      "outputs": [
        {
          "output_type": "display_data",
          "data": {
            "text/plain": [
              "<Figure size 600x400 with 1 Axes>"
            ],
            "image/png": "[encoded data removed]"
          },
          "metadata": {}
        },
        {
          "output_type": "stream",
          "name": "stdout",
          "text": [
            "- NaN's Found: 0 (0.0%)\n",
            "- Unique Values: 2\n",
            "- Most common value: 'yes' occurs 375 times (94.94%)\n",
            "- Not constant or quasi-constant.\n"
          ]
        }
      ]
    },
    {
      "cell_type": "markdown",
      "source": [
        "### Wants to attended higher education\n",
        "1. What type of feature is it? (Categorical (nominal), ordinal, numeric)\n",
        "\n",
        "  -  Nominal\n",
        "\n",
        "2. How many null values? What percentage? What would you do with the null values (drop the rows? drop the column? impute? if impute, with what?)\n",
        "\n",
        "  - None\n",
        "\n",
        "3. Is the feature constant or quasi-constant?\n",
        "\n",
        "  - Not constant or quasi-constant\n",
        "\n",
        "4. What is the cardinality? Is it high?\n",
        "\n",
        "  - 2, not high\n",
        "\n",
        "5. Would we know this BEFORE the target is determined?\n",
        "  - Yes\n",
        "\n",
        "6. Is there a business case/understanding reason to exclude based on our business case?\n",
        "  - No"
      ],
      "metadata": {
        "id": "Fng7eZAT08Fi"
      }
    },
    {
      "cell_type": "markdown",
      "source": [],
      "metadata": {
        "id": "CWWf5CHb04Om"
      }
    },
    {
      "cell_type": "code",
      "source": [
        "# Confirming the dtype to select correct EDA function\n",
        "feature = \"internet\"\n",
        "df[feature].dtype"
      ],
      "metadata": {
        "colab": {
          "base_uri": "https://localhost:8080/"
        },
        "id": "a8hr7GQ04Ewu",
        "outputId": "da6c192b-a09c-4c99-cc12-4fbfbf39a5d0"
      },
      "execution_count": 54,
      "outputs": [
        {
          "output_type": "execute_result",
          "data": {
            "text/plain": [
              "dtype('O')"
            ]
          },
          "metadata": {},
          "execution_count": 54
        }
      ]
    },
    {
      "cell_type": "code",
      "source": [
        "# run the appropriate explore function (based on feature's dtype)\n",
        "explore_categorical(df,feature);"
      ],
      "metadata": {
        "colab": {
          "base_uri": "https://localhost:8080/",
          "height": 479
        },
        "id": "G2i-xwBJ4sIY",
        "outputId": "99827d40-fb09-465e-e0c2-248098801b0a"
      },
      "execution_count": 55,
      "outputs": [
        {
          "output_type": "display_data",
          "data": {
            "text/plain": [
              "<Figure size 600x400 with 1 Axes>"
            ],
            "image/png": "[encoded data removed]"
          },
          "metadata": {}
        },
        {
          "output_type": "stream",
          "name": "stdout",
          "text": [
            "- NaN's Found: 0 (0.0%)\n",
            "- Unique Values: 2\n",
            "- Most common value: 'yes' occurs 329 times (83.29%)\n",
            "- Not constant or quasi-constant.\n"
          ]
        }
      ]
    },
    {
      "cell_type": "markdown",
      "source": [
        "### Internet Access At Home\n",
        "1. What type of feature is it? (Categorical (nominal), ordinal, numeric)\n",
        "\n",
        "  -  Nominal\n",
        "\n",
        "2. How many null values? What percentage? What would you do with the null values (drop the rows? drop the column? impute? if impute, with what?)\n",
        "\n",
        "  - None\n",
        "\n",
        "3. Is the feature constant or quasi-constant?\n",
        "\n",
        "  - Not constant or quasi-constant\n",
        "\n",
        "4. What is the cardinality? Is it high?\n",
        "\n",
        "  - 2, not high\n",
        "\n",
        "5. Would we know this BEFORE the target is determined?\n",
        "  - Yes\n",
        "\n",
        "6. Is there a business case/understanding reason to exclude based on our business case?\n",
        "  - No"
      ],
      "metadata": {
        "id": "wJE9vDxF1Eme"
      }
    },
    {
      "cell_type": "code",
      "source": [
        "# Confirming the dtype to select correct EDA function\n",
        "feature = \"romantic\"\n",
        "df[feature].dtype"
      ],
      "metadata": {
        "colab": {
          "base_uri": "https://localhost:8080/"
        },
        "id": "XsrMfxI04Gol",
        "outputId": "ff9637f1-6287-48b0-cd69-ac51d9881d58"
      },
      "execution_count": 56,
      "outputs": [
        {
          "output_type": "execute_result",
          "data": {
            "text/plain": [
              "dtype('O')"
            ]
          },
          "metadata": {},
          "execution_count": 56
        }
      ]
    },
    {
      "cell_type": "code",
      "source": [
        "# run the appropriate explore function (based on feature's dtype)\n",
        "explore_categorical(df,feature);"
      ],
      "metadata": {
        "colab": {
          "base_uri": "https://localhost:8080/",
          "height": 479
        },
        "id": "ojo3J1ND4syt",
        "outputId": "76a3dc89-7812-426b-fdf9-f2e11093fd74"
      },
      "execution_count": 57,
      "outputs": [
        {
          "output_type": "display_data",
          "data": {
            "text/plain": [
              "<Figure size 600x400 with 1 Axes>"
            ],
            "image/png": "[encoded data removed]"
          },
          "metadata": {}
        },
        {
          "output_type": "stream",
          "name": "stdout",
          "text": [
            "- NaN's Found: 0 (0.0%)\n",
            "- Unique Values: 2\n",
            "- Most common value: 'no' occurs 263 times (66.58%)\n",
            "- Not constant or quasi-constant.\n"
          ]
        }
      ]
    },
    {
      "cell_type": "markdown",
      "source": [
        "### With a romantic relationship\n",
        "1. What type of feature is it? (Categorical (nominal), ordinal, numeric)\n",
        "\n",
        "  -  Nominal\n",
        "\n",
        "2. How many null values? What percentage? What would you do with the null values (drop the rows? drop the column? impute? if impute, with what?)\n",
        "\n",
        "  - None\n",
        "\n",
        "3. Is the feature constant or quasi-constant?\n",
        "\n",
        "  - Not constant or quasi-constant\n",
        "\n",
        "4. What is the cardinality? Is it high?\n",
        "\n",
        "  - 2, not high\n",
        "\n",
        "5. Would we know this BEFORE the target is determined?\n",
        "  - Yes\n",
        "\n",
        "6. Is there a business case/understanding reason to exclude based on our business case?\n",
        "  - No"
      ],
      "metadata": {
        "id": "QqCzMSbk1HkK"
      }
    },
    {
      "cell_type": "code",
      "source": [
        "# Confirming the dtype to select correct EDA function\n",
        "feature = \"famrel\"\n",
        "df[feature].dtype"
      ],
      "metadata": {
        "colab": {
          "base_uri": "https://localhost:8080/"
        },
        "id": "uzrmDYva4IYR",
        "outputId": "53718257-2186-48cf-ebe5-b9c968dc41fe"
      },
      "execution_count": 58,
      "outputs": [
        {
          "output_type": "execute_result",
          "data": {
            "text/plain": [
              "dtype('int64')"
            ]
          },
          "metadata": {},
          "execution_count": 58
        }
      ]
    },
    {
      "cell_type": "code",
      "source": [
        "explore_numeric(df,feature);"
      ],
      "metadata": {
        "colab": {
          "base_uri": "https://localhost:8080/",
          "height": 578
        },
        "id": "_m6GlyuH47dK",
        "outputId": "12d9d494-2a59-4abc-f392-f5dc9c0fca9d"
      },
      "execution_count": 59,
      "outputs": [
        {
          "output_type": "display_data",
          "data": {
            "text/plain": [
              "<Figure size 600x500 with 2 Axes>"
            ],
            "image/png": "[encoded data removed]"
          },
          "metadata": {}
        },
        {
          "output_type": "stream",
          "name": "stdout",
          "text": [
            "- NaN's Found: 0 (0.0%)\n",
            "- Unique Values: 5\n",
            "- Most common value: '4' occurs 195 times (49.37%)\n",
            "- Not constant or quasi-constant.\n"
          ]
        }
      ]
    },
    {
      "cell_type": "markdown",
      "source": [
        "### Quality of family relationships\n",
        "####  1 - very bad to 5 - excellent\n",
        "\n",
        "1. What type of feature is it? (Categorical (nominal), ordinal, numeric)\n",
        "\n",
        "  -  Numeric\n",
        "\n",
        "2. How many null values? What percentage? What would you do with the null values (drop the rows? drop the column? impute? if impute, with what?)\n",
        "\n",
        "  - None\n",
        "\n",
        "3. Is the feature constant or quasi-constant?\n",
        "\n",
        "  - Not constant or quasi-constant\n",
        "\n",
        "4. What is the cardinality? Is it high?\n",
        "\n",
        "  - 5, not high\n",
        "\n",
        "5. Would we know this BEFORE the target is determined?\n",
        "  - Yes\n",
        "\n",
        "6. Is there a business case/understanding reason to exclude based on our business case?\n",
        "  - No"
      ],
      "metadata": {
        "id": "1yD8qj_H1N17"
      }
    },
    {
      "cell_type": "code",
      "source": [
        "# Confirming the dtype to select correct EDA function\n",
        "feature = \"freetime\"\n",
        "df[feature].dtype"
      ],
      "metadata": {
        "colab": {
          "base_uri": "https://localhost:8080/"
        },
        "id": "gnUOXSWH1bC1",
        "outputId": "256a0694-cbc2-4cdc-b23b-dc8ae027cfa8"
      },
      "execution_count": 60,
      "outputs": [
        {
          "output_type": "execute_result",
          "data": {
            "text/plain": [
              "dtype('int64')"
            ]
          },
          "metadata": {},
          "execution_count": 60
        }
      ]
    },
    {
      "cell_type": "code",
      "source": [
        "explore_numeric(df,feature);"
      ],
      "metadata": {
        "colab": {
          "base_uri": "https://localhost:8080/",
          "height": 578
        },
        "id": "xbO806rf1cYo",
        "outputId": "69cd06fc-1cae-45fa-cbcb-3bc741cc9c55"
      },
      "execution_count": 61,
      "outputs": [
        {
          "output_type": "display_data",
          "data": {
            "text/plain": [
              "<Figure size 600x500 with 2 Axes>"
            ],
            "image/png": "[encoded data removed]"
          },
          "metadata": {}
        },
        {
          "output_type": "stream",
          "name": "stdout",
          "text": [
            "- NaN's Found: 0 (0.0%)\n",
            "- Unique Values: 5\n",
            "- Most common value: '3' occurs 157 times (39.75%)\n",
            "- Not constant or quasi-constant.\n"
          ]
        }
      ]
    },
    {
      "cell_type": "markdown",
      "source": [
        "### Free Time\n",
        "####  1 - very low to 5 - very high\n",
        "\n",
        "1. What type of feature is it? (Categorical (nominal), ordinal, numeric)\n",
        "\n",
        "  -  Numeric\n",
        "\n",
        "2. How many null values? What percentage? What would you do with the null values (drop the rows? drop the column? impute? if impute, with what?)\n",
        "\n",
        "  - None\n",
        "\n",
        "3. Is the feature constant or quasi-constant?\n",
        "\n",
        "  - Not constant or quasi-constant\n",
        "\n",
        "4. What is the cardinality? Is it high?\n",
        "\n",
        "  - 5, not high\n",
        "\n",
        "5. Would we know this BEFORE the target is determined?\n",
        "  - Yes\n",
        "\n",
        "6. Is there a business case/understanding reason to exclude based on our business case?\n",
        "  - No"
      ],
      "metadata": {
        "id": "cLHTlOel1kQ2"
      }
    },
    {
      "cell_type": "code",
      "source": [
        "# Confirming the dtype to select correct EDA function\n",
        "feature = \"goout\"\n",
        "df[feature].dtype"
      ],
      "metadata": {
        "colab": {
          "base_uri": "https://localhost:8080/"
        },
        "id": "6Pkrrt6Q4KSv",
        "outputId": "9d91a0ec-5145-45b8-f554-3ea61a844866"
      },
      "execution_count": 62,
      "outputs": [
        {
          "output_type": "execute_result",
          "data": {
            "text/plain": [
              "dtype('int64')"
            ]
          },
          "metadata": {},
          "execution_count": 62
        }
      ]
    },
    {
      "cell_type": "code",
      "source": [
        "explore_numeric(df,feature);"
      ],
      "metadata": {
        "colab": {
          "base_uri": "https://localhost:8080/",
          "height": 578
        },
        "id": "CYn2THIP479K",
        "outputId": "3ef44646-c108-4686-e127-c183df5b9889"
      },
      "execution_count": 63,
      "outputs": [
        {
          "output_type": "display_data",
          "data": {
            "text/plain": [
              "<Figure size 600x500 with 2 Axes>"
            ],
            "image/png": "[encoded data removed]"
          },
          "metadata": {}
        },
        {
          "output_type": "stream",
          "name": "stdout",
          "text": [
            "- NaN's Found: 0 (0.0%)\n",
            "- Unique Values: 5\n",
            "- Most common value: '3' occurs 130 times (32.91%)\n",
            "- Not constant or quasi-constant.\n"
          ]
        }
      ]
    },
    {
      "cell_type": "markdown",
      "source": [
        "### Going out with friends\n",
        "####  1 - very low to 5 - very high\n",
        "\n",
        "1. What type of feature is it? (Categorical (nominal), ordinal, numeric)\n",
        "\n",
        "  -  Numeric\n",
        "\n",
        "2. How many null values? What percentage? What would you do with the null values (drop the rows? drop the column? impute? if impute, with what?)\n",
        "\n",
        "  - None\n",
        "\n",
        "3. Is the feature constant or quasi-constant?\n",
        "\n",
        "  - Not constant or quasi-constant\n",
        "\n",
        "4. What is the cardinality? Is it high?\n",
        "\n",
        "  - 5, not high\n",
        "\n",
        "5. Would we know this BEFORE the target is determined?\n",
        "  - Yes\n",
        "\n",
        "6. Is there a business case/understanding reason to exclude based on our business case?\n",
        "  - No"
      ],
      "metadata": {
        "id": "DOz5ENDu1Yxf"
      }
    },
    {
      "cell_type": "code",
      "source": [
        "# Confirming the dtype to select correct EDA function\n",
        "feature = \"Dalc\"\n",
        "df[feature].dtype"
      ],
      "metadata": {
        "colab": {
          "base_uri": "https://localhost:8080/"
        },
        "id": "WferTbCI4L0k",
        "outputId": "4e51d0a7-ffce-4338-dd5e-38b7beb05225"
      },
      "execution_count": 64,
      "outputs": [
        {
          "output_type": "execute_result",
          "data": {
            "text/plain": [
              "dtype('int64')"
            ]
          },
          "metadata": {},
          "execution_count": 64
        }
      ]
    },
    {
      "cell_type": "code",
      "source": [
        "explore_numeric(df,feature);"
      ],
      "metadata": {
        "colab": {
          "base_uri": "https://localhost:8080/",
          "height": 578
        },
        "id": "Jccvpenk48wm",
        "outputId": "d285e220-4eca-4cb0-ea25-1370657e1d5e"
      },
      "execution_count": 65,
      "outputs": [
        {
          "output_type": "display_data",
          "data": {
            "text/plain": [
              "<Figure size 600x500 with 2 Axes>"
            ],
            "image/png": "[encoded data removed]"
          },
          "metadata": {}
        },
        {
          "output_type": "stream",
          "name": "stdout",
          "text": [
            "- NaN's Found: 0 (0.0%)\n",
            "- Unique Values: 5\n",
            "- Most common value: '1' occurs 276 times (69.87%)\n",
            "- Not constant or quasi-constant.\n"
          ]
        }
      ]
    },
    {
      "cell_type": "markdown",
      "source": [
        "### Work Day alcohol consumption\n",
        "####  1 - very low to 5 - very high\n",
        "\n",
        "1. What type of feature is it? (Categorical (nominal), ordinal, numeric)\n",
        "\n",
        "  -  Numeric\n",
        "\n",
        "2. How many null values? What percentage? What would you do with the null values (drop the rows? drop the column? impute? if impute, with what?)\n",
        "\n",
        "  - None\n",
        "\n",
        "3. Is the feature constant or quasi-constant?\n",
        "\n",
        "  - Not constant or quasi-constant\n",
        "\n",
        "4. What is the cardinality? Is it high?\n",
        "\n",
        "  - 5, not high\n",
        "\n",
        "5. Would we know this BEFORE the target is determined?\n",
        "  - Yes\n",
        "\n",
        "6. Is there a business case/understanding reason to exclude based on our business case?\n",
        "  - No"
      ],
      "metadata": {
        "id": "EOhUrQiG1yMS"
      }
    },
    {
      "cell_type": "code",
      "source": [
        "# Confirming the dtype to select correct EDA function\n",
        "feature = \"Walc\"\n",
        "df[feature].dtype"
      ],
      "metadata": {
        "colab": {
          "base_uri": "https://localhost:8080/"
        },
        "id": "luvx-w9N4NhE",
        "outputId": "5fdd8b8a-2f55-4bb2-e62c-1e120996b4ca"
      },
      "execution_count": 66,
      "outputs": [
        {
          "output_type": "execute_result",
          "data": {
            "text/plain": [
              "dtype('int64')"
            ]
          },
          "metadata": {},
          "execution_count": 66
        }
      ]
    },
    {
      "cell_type": "code",
      "source": [
        "explore_numeric(df,feature);"
      ],
      "metadata": {
        "colab": {
          "base_uri": "https://localhost:8080/",
          "height": 578
        },
        "id": "zq_eHGoR49YH",
        "outputId": "edad86ea-ba31-4186-cb1b-c39a389f78a1"
      },
      "execution_count": 67,
      "outputs": [
        {
          "output_type": "display_data",
          "data": {
            "text/plain": [
              "<Figure size 600x500 with 2 Axes>"
            ],
            "image/png": "[encoded data removed]"
          },
          "metadata": {}
        },
        {
          "output_type": "stream",
          "name": "stdout",
          "text": [
            "- NaN's Found: 0 (0.0%)\n",
            "- Unique Values: 5\n",
            "- Most common value: '1' occurs 151 times (38.23%)\n",
            "- Not constant or quasi-constant.\n"
          ]
        }
      ]
    },
    {
      "cell_type": "markdown",
      "source": [
        "### Weekend alcohol consumption\n",
        "####  1 - very low to 5 - very high\n",
        "\n",
        "1. What type of feature is it? (Categorical (nominal), ordinal, numeric)\n",
        "\n",
        "  -  Numeric\n",
        "\n",
        "2. How many null values? What percentage? What would you do with the null values (drop the rows? drop the column? impute? if impute, with what?)\n",
        "\n",
        "  - None\n",
        "\n",
        "3. Is the feature constant or quasi-constant?\n",
        "\n",
        "  - Not constant or quasi-constant\n",
        "\n",
        "4. What is the cardinality? Is it high?\n",
        "\n",
        "  - 5, not high\n",
        "\n",
        "5. Would we know this BEFORE the target is determined?\n",
        "  - Yes\n",
        "\n",
        "6. Is there a business case/understanding reason to exclude based on our business case?\n",
        "  - No"
      ],
      "metadata": {
        "id": "01DrF6-D14cR"
      }
    },
    {
      "cell_type": "code",
      "source": [
        "# Confirming the dtype to select correct EDA function\n",
        "feature = \"health\"\n",
        "df[feature].dtype"
      ],
      "metadata": {
        "colab": {
          "base_uri": "https://localhost:8080/"
        },
        "id": "NFQOlwFT4O-_",
        "outputId": "20901612-45f6-409f-92aa-9db7d293b670"
      },
      "execution_count": 68,
      "outputs": [
        {
          "output_type": "execute_result",
          "data": {
            "text/plain": [
              "dtype('int64')"
            ]
          },
          "metadata": {},
          "execution_count": 68
        }
      ]
    },
    {
      "cell_type": "code",
      "source": [
        "explore_numeric(df,feature);"
      ],
      "metadata": {
        "colab": {
          "base_uri": "https://localhost:8080/",
          "height": 578
        },
        "id": "80LCRuRP495y",
        "outputId": "ee8e92d1-08e1-4310-cb2d-1f2a4a088082"
      },
      "execution_count": 69,
      "outputs": [
        {
          "output_type": "display_data",
          "data": {
            "text/plain": [
              "<Figure size 600x500 with 2 Axes>"
            ],
            "image/png": "[encoded data removed]"
          },
          "metadata": {}
        },
        {
          "output_type": "stream",
          "name": "stdout",
          "text": [
            "- NaN's Found: 0 (0.0%)\n",
            "- Unique Values: 5\n",
            "- Most common value: '5' occurs 146 times (36.96%)\n",
            "- Not constant or quasi-constant.\n"
          ]
        }
      ]
    },
    {
      "cell_type": "markdown",
      "source": [
        "### Current health status\n",
        "#### 1 - very bad to 5 - very good\n",
        "1. What type of feature is it? (Categorical (nominal), ordinal, numeric)\n",
        "\n",
        "  -  Numeric\n",
        "\n",
        "2. How many null values? What percentage? What would you do with the null values (drop the rows? drop the column? impute? if impute, with what?)\n",
        "\n",
        "  - None\n",
        "\n",
        "3. Is the feature constant or quasi-constant?\n",
        "\n",
        "  - Not constant or quasi-constant\n",
        "\n",
        "4. What is the cardinality? Is it high?\n",
        "\n",
        "  - 5, not high\n",
        "\n",
        "5. Would we know this BEFORE the target is determined?\n",
        "  - Yes\n",
        "\n",
        "6. Is there a business case/understanding reason to exclude based on our business case?\n",
        "  - No"
      ],
      "metadata": {
        "id": "V2BI5EPK2Bcp"
      }
    },
    {
      "cell_type": "code",
      "source": [
        "# Confirming the dtype to select correct EDA function\n",
        "feature = \"absences\"\n",
        "df[feature].dtype"
      ],
      "metadata": {
        "colab": {
          "base_uri": "https://localhost:8080/"
        },
        "id": "zekLIwZE4QPB",
        "outputId": "a650258a-2787-4d92-a894-1101bab73705"
      },
      "execution_count": 70,
      "outputs": [
        {
          "output_type": "execute_result",
          "data": {
            "text/plain": [
              "dtype('int64')"
            ]
          },
          "metadata": {},
          "execution_count": 70
        }
      ]
    },
    {
      "cell_type": "code",
      "source": [
        "explore_numeric(df,feature);"
      ],
      "metadata": {
        "colab": {
          "base_uri": "https://localhost:8080/",
          "height": 578
        },
        "id": "M8EHk-SH4-bd",
        "outputId": "53797f39-c207-4c23-b1af-c644c81dc65e"
      },
      "execution_count": 71,
      "outputs": [
        {
          "output_type": "display_data",
          "data": {
            "text/plain": [
              "<Figure size 600x500 with 2 Axes>"
            ],
            "image/png": "[encoded data removed]"
          },
          "metadata": {}
        },
        {
          "output_type": "stream",
          "name": "stdout",
          "text": [
            "- NaN's Found: 0 (0.0%)\n",
            "- Unique Values: 34\n",
            "- Most common value: '0' occurs 115 times (29.11%)\n",
            "- Not constant or quasi-constant.\n"
          ]
        }
      ]
    },
    {
      "cell_type": "markdown",
      "source": [
        "### Absenses (0 to 93)\n",
        "\n",
        "1. What type of feature is it? (Categorical (nominal), ordinal, numeric)\n",
        "\n",
        "  -  Numeric\n",
        "\n",
        "2. How many null values? What percentage? What would you do with the null values (drop the rows? drop the column? impute? if impute, with what?)\n",
        "\n",
        "  - None\n",
        "\n",
        "3. Is the feature constant or quasi-constant?\n",
        "\n",
        "  - Not constant or quasi-constant\n",
        "\n",
        "4. What is the cardinality? Is it high?\n",
        "\n",
        "  - 34, high\n",
        "\n",
        "5. Would we know this BEFORE the target is determined?\n",
        "  - Yes\n",
        "\n",
        "6. Is there a business case/understanding reason to exclude based on our business case?\n",
        "  - No"
      ],
      "metadata": {
        "id": "K5HMAJL52L3q"
      }
    },
    {
      "cell_type": "code",
      "source": [
        "# Confirming the dtype to select correct EDA function\n",
        "feature = \"G1\"\n",
        "df[feature].dtype"
      ],
      "metadata": {
        "colab": {
          "base_uri": "https://localhost:8080/"
        },
        "id": "Z6__E5tt4SHO",
        "outputId": "e6d46531-1ec5-41e5-9d97-1fd798ba9e2a"
      },
      "execution_count": 72,
      "outputs": [
        {
          "output_type": "execute_result",
          "data": {
            "text/plain": [
              "dtype('int64')"
            ]
          },
          "metadata": {},
          "execution_count": 72
        }
      ]
    },
    {
      "cell_type": "code",
      "source": [
        "explore_numeric(df,feature);"
      ],
      "metadata": {
        "colab": {
          "base_uri": "https://localhost:8080/",
          "height": 578
        },
        "id": "zA-ZZtLh4-8c",
        "outputId": "4a284bb5-b848-4a90-f341-92ac6d6a16c8"
      },
      "execution_count": 73,
      "outputs": [
        {
          "output_type": "display_data",
          "data": {
            "text/plain": [
              "<Figure size 600x500 with 2 Axes>"
            ],
            "image/png": "[encoded data removed]"
          },
          "metadata": {}
        },
        {
          "output_type": "stream",
          "name": "stdout",
          "text": [
            "- NaN's Found: 0 (0.0%)\n",
            "- Unique Values: 17\n",
            "- Most common value: '10' occurs 51 times (12.91%)\n",
            "- Not constant or quasi-constant.\n"
          ]
        }
      ]
    },
    {
      "cell_type": "markdown",
      "source": [
        "### First period grade\n",
        "#### from 0 to 20\n",
        "\n",
        "1. What type of feature is it? (Categorical (nominal), ordinal, numeric)\n",
        "\n",
        "  -  Numeric\n",
        "\n",
        "2. How many null values? What percentage? What would you do with the null values (drop the rows? drop the column? impute? if impute, with what?)\n",
        "\n",
        "  - None\n",
        "\n",
        "3. Is the feature constant or quasi-constant?\n",
        "\n",
        "  - Not constant or quasi-constant\n",
        "\n",
        "4. What is the cardinality? Is it high?\n",
        "\n",
        "  - 17, high\n",
        "\n",
        "5. Would we know this BEFORE the target is determined?\n",
        "  - Yes\n",
        "\n",
        "6. Is there a business case/understanding reason to exclude based on our business case?\n",
        "  - No"
      ],
      "metadata": {
        "id": "FM_pvlkB2Xxw"
      }
    },
    {
      "cell_type": "code",
      "source": [
        "# Confirming the dtype to select correct EDA function\n",
        "feature = \"G2\"\n",
        "df[feature].dtype"
      ],
      "metadata": {
        "colab": {
          "base_uri": "https://localhost:8080/"
        },
        "id": "g8MvFvLK4TR1",
        "outputId": "b896ff1e-c0d7-4aff-f5cf-2e8c5774c870"
      },
      "execution_count": 74,
      "outputs": [
        {
          "output_type": "execute_result",
          "data": {
            "text/plain": [
              "dtype('int64')"
            ]
          },
          "metadata": {},
          "execution_count": 74
        }
      ]
    },
    {
      "cell_type": "code",
      "source": [
        "explore_numeric(df,feature);"
      ],
      "metadata": {
        "colab": {
          "base_uri": "https://localhost:8080/",
          "height": 578
        },
        "id": "8gYGVmbZ4_de",
        "outputId": "2ff78ea1-0764-409b-bc0b-cac4c62c73c1"
      },
      "execution_count": 75,
      "outputs": [
        {
          "output_type": "display_data",
          "data": {
            "text/plain": [
              "<Figure size 600x500 with 2 Axes>"
            ],
            "image/png": "[encoded data removed]"
          },
          "metadata": {}
        },
        {
          "output_type": "stream",
          "name": "stdout",
          "text": [
            "- NaN's Found: 0 (0.0%)\n",
            "- Unique Values: 17\n",
            "- Most common value: '9' occurs 50 times (12.66%)\n",
            "- Not constant or quasi-constant.\n"
          ]
        }
      ]
    },
    {
      "cell_type": "markdown",
      "source": [
        "### Second period grade\n",
        "#### from 0 to 20\n",
        "\n",
        "1. What type of feature is it? (Categorical (nominal), ordinal, numeric)\n",
        "\n",
        "  -  Numeric\n",
        "\n",
        "2. How many null values? What percentage? What would you do with the null values (drop the rows? drop the column? impute? if impute, with what?)\n",
        "\n",
        "  - None\n",
        "\n",
        "3. Is the feature constant or quasi-constant?\n",
        "\n",
        "  - Not constant or quasi-constant\n",
        "\n",
        "4. What is the cardinality? Is it high?\n",
        "\n",
        "  - 17, high\n",
        "\n",
        "5. Would we know this BEFORE the target is determined?\n",
        "  - Yes\n",
        "\n",
        "6. Is there a business case/understanding reason to exclude based on our business case?\n",
        "  - No"
      ],
      "metadata": {
        "id": "vLq4JYYY2fHd"
      }
    },
    {
      "cell_type": "code",
      "source": [
        "# Confirming the dtype to select correct EDA function\n",
        "feature = \"G3\"\n",
        "df[feature].dtype"
      ],
      "metadata": {
        "colab": {
          "base_uri": "https://localhost:8080/"
        },
        "id": "rmwf13L44UXH",
        "outputId": "8c0bd997-63a2-4779-ced2-e82161f91f15"
      },
      "execution_count": 76,
      "outputs": [
        {
          "output_type": "execute_result",
          "data": {
            "text/plain": [
              "dtype('int64')"
            ]
          },
          "metadata": {},
          "execution_count": 76
        }
      ]
    },
    {
      "cell_type": "code",
      "source": [
        "explore_numeric(df,feature);"
      ],
      "metadata": {
        "colab": {
          "base_uri": "https://localhost:8080/",
          "height": 578
        },
        "id": "xdX8HGDx5AIx",
        "outputId": "2a34fa76-092c-4a7e-a86d-d277890d4299"
      },
      "execution_count": 77,
      "outputs": [
        {
          "output_type": "display_data",
          "data": {
            "text/plain": [
              "<Figure size 600x500 with 2 Axes>"
            ],
            "image/png": "[encoded data removed]"
          },
          "metadata": {}
        },
        {
          "output_type": "stream",
          "name": "stdout",
          "text": [
            "- NaN's Found: 0 (0.0%)\n",
            "- Unique Values: 18\n",
            "- Most common value: '10' occurs 56 times (14.18%)\n",
            "- Not constant or quasi-constant.\n"
          ]
        }
      ]
    },
    {
      "cell_type": "markdown",
      "source": [
        "### Final grade\n",
        "#### from 0 to 20\n",
        "\n",
        "1. What type of feature is it? (Categorical (nominal), ordinal, numeric)\n",
        "\n",
        "  -  Numeric\n",
        "\n",
        "2. How many null values? What percentage? What would you do with the null values (drop the rows? drop the column? impute? if impute, with what?)\n",
        "\n",
        "  - None\n",
        "\n",
        "3. Is the feature constant or quasi-constant?\n",
        "\n",
        "  - Not constant or quasi-constant\n",
        "\n",
        "4. What is the cardinality? Is it high?\n",
        "\n",
        "  - 18, high\n",
        "\n",
        "5. Would we know this BEFORE the target is determined?\n",
        "  - Yes\n",
        "\n",
        "6. Is there a business case/understanding reason to exclude based on our business case?\n",
        "  - No"
      ],
      "metadata": {
        "id": "vfEsvQtR2gt-"
      }
    }
  ]
}